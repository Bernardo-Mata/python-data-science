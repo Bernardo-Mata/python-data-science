{
 "cells": [
  {
   "cell_type": "code",
   "execution_count": 2,
   "id": "74849638",
   "metadata": {},
   "outputs": [],
   "source": [
    "import numpy as np\n",
    "import pandas as pd\n"
   ]
  },
  {
   "cell_type": "code",
   "execution_count": 4,
   "id": "e4c94980",
   "metadata": {},
   "outputs": [
    {
     "data": {
      "application/vnd.microsoft.datawrangler.viewer.v0+json": {
       "columns": [
        {
         "name": "index",
         "rawType": "int64",
         "type": "integer"
        },
        {
         "name": "Ciudad",
         "rawType": "object",
         "type": "string"
        },
        {
         "name": "País",
         "rawType": "object",
         "type": "string"
        },
        {
         "name": "Población",
         "rawType": "int64",
         "type": "integer"
        },
        {
         "name": "Visitantes",
         "rawType": "int64",
         "type": "integer"
        }
       ],
       "ref": "c3163686-752c-4194-892c-d99f59f7beef",
       "rows": [
        [
         "0",
         "Ciudad de México",
         "México",
         "9265833",
         "21000000"
        ],
        [
         "1",
         "Buenos Aires",
         "Argentina",
         "3059574",
         "15000000"
        ],
        [
         "2",
         "Río de Janeiro",
         "Brasil",
         "6748314",
         "13000000"
        ],
        [
         "3",
         "Lima",
         "Perú",
         "9756020",
         "9000000"
        ],
        [
         "4",
         "Bogotá",
         "Colombia",
         "7181663",
         "8000000"
        ],
        [
         "5",
         "Santiago de Chile",
         "Chile",
         "6199241",
         "7500000"
        ],
        [
         "6",
         "São Paulo",
         "Brasil",
         "12333146",
         "20000000"
        ],
        [
         "7",
         "La Habana",
         "Cuba",
         "2164182",
         "4000000"
        ],
        [
         "8",
         "Cancún",
         "México",
         "888124",
         "5000000"
        ],
        [
         "9",
         "Cartagena",
         "Colombia",
         "1036671",
         "3000000"
        ]
       ],
       "shape": {
        "columns": 4,
        "rows": 10
       }
      },
      "text/html": [
       "<div>\n",
       "<style scoped>\n",
       "    .dataframe tbody tr th:only-of-type {\n",
       "        vertical-align: middle;\n",
       "    }\n",
       "\n",
       "    .dataframe tbody tr th {\n",
       "        vertical-align: top;\n",
       "    }\n",
       "\n",
       "    .dataframe thead th {\n",
       "        text-align: right;\n",
       "    }\n",
       "</style>\n",
       "<table border=\"1\" class=\"dataframe\">\n",
       "  <thead>\n",
       "    <tr style=\"text-align: right;\">\n",
       "      <th></th>\n",
       "      <th>Ciudad</th>\n",
       "      <th>País</th>\n",
       "      <th>Población</th>\n",
       "      <th>Visitantes</th>\n",
       "    </tr>\n",
       "  </thead>\n",
       "  <tbody>\n",
       "    <tr>\n",
       "      <th>0</th>\n",
       "      <td>Ciudad de México</td>\n",
       "      <td>México</td>\n",
       "      <td>9265833</td>\n",
       "      <td>21000000</td>\n",
       "    </tr>\n",
       "    <tr>\n",
       "      <th>1</th>\n",
       "      <td>Buenos Aires</td>\n",
       "      <td>Argentina</td>\n",
       "      <td>3059574</td>\n",
       "      <td>15000000</td>\n",
       "    </tr>\n",
       "    <tr>\n",
       "      <th>2</th>\n",
       "      <td>Río de Janeiro</td>\n",
       "      <td>Brasil</td>\n",
       "      <td>6748314</td>\n",
       "      <td>13000000</td>\n",
       "    </tr>\n",
       "    <tr>\n",
       "      <th>3</th>\n",
       "      <td>Lima</td>\n",
       "      <td>Perú</td>\n",
       "      <td>9756020</td>\n",
       "      <td>9000000</td>\n",
       "    </tr>\n",
       "    <tr>\n",
       "      <th>4</th>\n",
       "      <td>Bogotá</td>\n",
       "      <td>Colombia</td>\n",
       "      <td>7181663</td>\n",
       "      <td>8000000</td>\n",
       "    </tr>\n",
       "    <tr>\n",
       "      <th>5</th>\n",
       "      <td>Santiago de Chile</td>\n",
       "      <td>Chile</td>\n",
       "      <td>6199241</td>\n",
       "      <td>7500000</td>\n",
       "    </tr>\n",
       "    <tr>\n",
       "      <th>6</th>\n",
       "      <td>São Paulo</td>\n",
       "      <td>Brasil</td>\n",
       "      <td>12333146</td>\n",
       "      <td>20000000</td>\n",
       "    </tr>\n",
       "    <tr>\n",
       "      <th>7</th>\n",
       "      <td>La Habana</td>\n",
       "      <td>Cuba</td>\n",
       "      <td>2164182</td>\n",
       "      <td>4000000</td>\n",
       "    </tr>\n",
       "    <tr>\n",
       "      <th>8</th>\n",
       "      <td>Cancún</td>\n",
       "      <td>México</td>\n",
       "      <td>888124</td>\n",
       "      <td>5000000</td>\n",
       "    </tr>\n",
       "    <tr>\n",
       "      <th>9</th>\n",
       "      <td>Cartagena</td>\n",
       "      <td>Colombia</td>\n",
       "      <td>1036671</td>\n",
       "      <td>3000000</td>\n",
       "    </tr>\n",
       "  </tbody>\n",
       "</table>\n",
       "</div>"
      ],
      "text/plain": [
       "              Ciudad       País  Población  Visitantes\n",
       "0   Ciudad de México     México    9265833    21000000\n",
       "1       Buenos Aires  Argentina    3059574    15000000\n",
       "2     Río de Janeiro     Brasil    6748314    13000000\n",
       "3               Lima       Perú    9756020     9000000\n",
       "4             Bogotá   Colombia    7181663     8000000\n",
       "5  Santiago de Chile      Chile    6199241     7500000\n",
       "6          São Paulo     Brasil   12333146    20000000\n",
       "7          La Habana       Cuba    2164182     4000000\n",
       "8             Cancún     México     888124     5000000\n",
       "9          Cartagena   Colombia    1036671     3000000"
      ]
     },
     "execution_count": 4,
     "metadata": {},
     "output_type": "execute_result"
    }
   ],
   "source": [
    "df = pd.read_csv('dataFrames/numpy/Ciudades_Visitadas_Latinoamerica_2023.csv')\n",
    "df"
   ]
  },
  {
   "cell_type": "code",
   "execution_count": 5,
   "id": "6617280a",
   "metadata": {},
   "outputs": [
    {
     "data": {
      "text/plain": [
       "5863276.8"
      ]
     },
     "execution_count": 5,
     "metadata": {},
     "output_type": "execute_result"
    }
   ],
   "source": [
    "df['Población'].mean()"
   ]
  },
  {
   "cell_type": "code",
   "execution_count": 6,
   "id": "691438db",
   "metadata": {},
   "outputs": [
    {
     "data": {
      "text/plain": [
       "5863277.0"
      ]
     },
     "execution_count": 6,
     "metadata": {},
     "output_type": "execute_result"
    }
   ],
   "source": [
    "#redondear con numpy\n",
    "np.round(df['Población'].mean())"
   ]
  },
  {
   "cell_type": "code",
   "execution_count": 7,
   "id": "61231265",
   "metadata": {},
   "outputs": [
    {
     "data": {
      "text/plain": [
       "3000000"
      ]
     },
     "execution_count": 7,
     "metadata": {},
     "output_type": "execute_result"
    }
   ],
   "source": [
    "np.min(df['Visitantes'])"
   ]
  },
  {
   "cell_type": "code",
   "execution_count": 8,
   "id": "1c204cf4",
   "metadata": {},
   "outputs": [
    {
     "data": {
      "text/plain": [
       "21000000"
      ]
     },
     "execution_count": 8,
     "metadata": {},
     "output_type": "execute_result"
    }
   ],
   "source": [
    "np.max(df['Visitantes'])"
   ]
  },
  {
   "cell_type": "markdown",
   "id": "6ae25637",
   "metadata": {},
   "source": [
    "<h2>Arrays en Numpy</h2>"
   ]
  },
  {
   "cell_type": "code",
   "execution_count": 9,
   "id": "86c41315",
   "metadata": {},
   "outputs": [
    {
     "data": {
      "text/plain": [
       "array([1, 2, 3, 4, 5])"
      ]
     },
     "execution_count": 9,
     "metadata": {},
     "output_type": "execute_result"
    }
   ],
   "source": [
    "mi_array = np.array([1,2,3,4,5])\n",
    "mi_array"
   ]
  },
  {
   "cell_type": "code",
   "execution_count": 10,
   "id": "652ed5a8",
   "metadata": {},
   "outputs": [
    {
     "data": {
      "text/plain": [
       "numpy.ndarray"
      ]
     },
     "execution_count": 10,
     "metadata": {},
     "output_type": "execute_result"
    }
   ],
   "source": [
    "type(mi_array)"
   ]
  },
  {
   "cell_type": "code",
   "execution_count": 11,
   "id": "1206c520",
   "metadata": {},
   "outputs": [],
   "source": [
    "lista_grande = list(range(1000000))\n",
    "array_grande = np.array(lista_grande)\n"
   ]
  },
  {
   "cell_type": "code",
   "execution_count": 12,
   "id": "ae456237",
   "metadata": {},
   "outputs": [
    {
     "data": {
      "text/plain": [
       "numpy.ndarray"
      ]
     },
     "execution_count": 12,
     "metadata": {},
     "output_type": "execute_result"
    }
   ],
   "source": [
    "type(mi_array)\n"
   ]
  },
  {
   "cell_type": "code",
   "execution_count": 13,
   "id": "ecfc156a",
   "metadata": {},
   "outputs": [
    {
     "data": {
      "text/plain": [
       "list"
      ]
     },
     "execution_count": 13,
     "metadata": {},
     "output_type": "execute_result"
    }
   ],
   "source": [
    "type(lista_grande)"
   ]
  },
  {
   "cell_type": "code",
   "execution_count": 15,
   "id": "03e38ce3",
   "metadata": {},
   "outputs": [
    {
     "name": "stdout",
     "output_type": "stream",
     "text": [
      "Tiempo con listas: 0.06406617164611816\n"
     ]
    }
   ],
   "source": [
    "import time\n",
    "inicio_lista = time.time()\n",
    "for i in lista_grande:\n",
    "    i**2\n",
    "fin_lista = time.time()\n",
    "print(f'Tiempo con listas: {fin_lista - inicio_lista}')"
   ]
  },
  {
   "cell_type": "code",
   "execution_count": 16,
   "id": "1e5cfe46",
   "metadata": {},
   "outputs": [
    {
     "name": "stdout",
     "output_type": "stream",
     "text": [
      "Tiempo con arrays: 0.003999948501586914\n"
     ]
    }
   ],
   "source": [
    "inicio_array = time.time()\n",
    "\n",
    "array_grande ** 2\n",
    "fin_array = time.time()\n",
    "print(f'Tiempo con arrays: {fin_array - inicio_array}')"
   ]
  },
  {
   "cell_type": "code",
   "execution_count": 17,
   "id": "344690a3",
   "metadata": {},
   "outputs": [
    {
     "data": {
      "text/plain": [
       "3"
      ]
     },
     "execution_count": 17,
     "metadata": {},
     "output_type": "execute_result"
    }
   ],
   "source": [
    "array = np.array([1,2,3])\n",
    "len(array)"
   ]
  },
  {
   "cell_type": "code",
   "execution_count": 18,
   "id": "7b094d0e",
   "metadata": {},
   "outputs": [
    {
     "data": {
      "text/plain": [
       "(3,)"
      ]
     },
     "execution_count": 18,
     "metadata": {},
     "output_type": "execute_result"
    }
   ],
   "source": [
    "array.shape"
   ]
  },
  {
   "cell_type": "code",
   "execution_count": 19,
   "id": "4adaae87",
   "metadata": {},
   "outputs": [
    {
     "data": {
      "text/plain": [
       "array([[1, 2, 3],\n",
       "       [4, 5, 6]])"
      ]
     },
     "execution_count": 19,
     "metadata": {},
     "output_type": "execute_result"
    }
   ],
   "source": [
    "array_2d = np.array([[1,2,3],[4,5,6]])\n",
    "array_2d"
   ]
  },
  {
   "cell_type": "code",
   "execution_count": 20,
   "id": "38da4b0a",
   "metadata": {},
   "outputs": [
    {
     "data": {
      "text/plain": [
       "2"
      ]
     },
     "execution_count": 20,
     "metadata": {},
     "output_type": "execute_result"
    }
   ],
   "source": [
    "len(array_2d)"
   ]
  },
  {
   "cell_type": "code",
   "execution_count": null,
   "id": "b97f70b7",
   "metadata": {},
   "outputs": [],
   "source": [
    "#Crea un array unidimensional llamado: array_enteros que contenga los primeros 10 números enteros positivos, comenzando desde el 1.\n",
    "array_enteros = np.array([1, 2, 3, 4, 5, 6, 7, 8, 9, 10])"
   ]
  },
  {
   "cell_type": "code",
   "execution_count": null,
   "id": "bd61e93e",
   "metadata": {},
   "outputs": [],
   "source": [
    "#Utilizando el array creado en el Ejercicio 1,  array_enteros escribe un código que imprima la forma de este array, debes almacenar el resultado en una variable llamada: forma_array\n",
    "\n",
    "array_enteros = np.array([1, 2, 3, 4, 5, 6, 7, 8, 9, 10])\n",
    "forma_array = array_enteros.shape\n",
    "print(forma_array)"
   ]
  },
  {
   "cell_type": "code",
   "execution_count": 21,
   "id": "5e8e8be5",
   "metadata": {},
   "outputs": [],
   "source": [
    "x = [1,2,3]\n",
    "y = [4,5,6]\n",
    "z = [7,8,9]\n"
   ]
  },
  {
   "cell_type": "code",
   "execution_count": 22,
   "id": "16eba7aa",
   "metadata": {},
   "outputs": [
    {
     "data": {
      "text/plain": [
       "array([1, 2, 3, 4, 5, 6, 7, 8, 9])"
      ]
     },
     "execution_count": 22,
     "metadata": {},
     "output_type": "execute_result"
    }
   ],
   "source": [
    "np.concatenate((x,y,z))"
   ]
  },
  {
   "cell_type": "code",
   "execution_count": 24,
   "id": "7f588b64",
   "metadata": {},
   "outputs": [
    {
     "data": {
      "text/plain": [
       "array([[1, 2, 5, 6],\n",
       "       [3, 4, 7, 8]])"
      ]
     },
     "execution_count": 24,
     "metadata": {},
     "output_type": "execute_result"
    }
   ],
   "source": [
    "a = [[1,2],\n",
    "     [3,4]]\n",
    "b = [[5,6],\n",
    "     [7,8]]\n",
    "np.concatenate((a,b), axis=1) \n"
   ]
  },
  {
   "cell_type": "code",
   "execution_count": 25,
   "id": "8de391ca",
   "metadata": {},
   "outputs": [
    {
     "data": {
      "text/plain": [
       "(2, 4)"
      ]
     },
     "execution_count": 25,
     "metadata": {},
     "output_type": "execute_result"
    }
   ],
   "source": [
    "array_concatenado = np.concatenate((a,b), axis=1) \n",
    "array_concatenado.shape"
   ]
  },
  {
   "cell_type": "code",
   "execution_count": 27,
   "id": "fed82e85",
   "metadata": {},
   "outputs": [
    {
     "data": {
      "text/plain": [
       "array([[1, 2],\n",
       "       [5, 6],\n",
       "       [3, 4],\n",
       "       [7, 8]])"
      ]
     },
     "execution_count": 27,
     "metadata": {},
     "output_type": "execute_result"
    }
   ],
   "source": [
    "array_reformado = array_concatenado.reshape(4,2)\n",
    "array_reformado"
   ]
  },
  {
   "cell_type": "code",
   "execution_count": 29,
   "id": "b6cc3da2",
   "metadata": {},
   "outputs": [
    {
     "data": {
      "text/plain": [
       "array([[ 2,  4],\n",
       "       [10, 12],\n",
       "       [ 6,  8],\n",
       "       [14, 16]])"
      ]
     },
     "execution_count": 29,
     "metadata": {},
     "output_type": "execute_result"
    }
   ],
   "source": [
    "array_sumado = array_reformado + array_reformado\n",
    "array_sumado"
   ]
  },
  {
   "cell_type": "code",
   "execution_count": 30,
   "id": "49860898",
   "metadata": {},
   "outputs": [
    {
     "data": {
      "text/plain": [
       "array([[1.41421356, 2.        ],\n",
       "       [3.16227766, 3.46410162],\n",
       "       [2.44948974, 2.82842712],\n",
       "       [3.74165739, 4.        ]])"
      ]
     },
     "execution_count": 30,
     "metadata": {},
     "output_type": "execute_result"
    }
   ],
   "source": [
    "raices = np.sqrt(array_sumado)\n",
    "raices"
   ]
  },
  {
   "cell_type": "markdown",
   "id": "bd52bfcd",
   "metadata": {},
   "source": [
    "<h2>Acceder a elementos de Array</h2>"
   ]
  },
  {
   "cell_type": "code",
   "execution_count": 31,
   "id": "21f6ffc5",
   "metadata": {},
   "outputs": [],
   "source": [
    "array1d = np.array([1,2,3,4,5])\n",
    "array2d = np.array([[1,2,3],[4,5,6], [7,8,9]])"
   ]
  },
  {
   "cell_type": "code",
   "execution_count": null,
   "id": "ab402e7b",
   "metadata": {},
   "outputs": [
    {
     "data": {
      "text/plain": [
       "array([1, 2, 3])"
      ]
     },
     "execution_count": 32,
     "metadata": {},
     "output_type": "execute_result"
    }
   ],
   "source": [
    "array2d[0]  # Primer fila"
   ]
  },
  {
   "cell_type": "code",
   "execution_count": 33,
   "id": "147a6f0b",
   "metadata": {},
   "outputs": [
    {
     "data": {
      "text/plain": [
       "6"
      ]
     },
     "execution_count": 33,
     "metadata": {},
     "output_type": "execute_result"
    }
   ],
   "source": [
    "array2d[1][2]  # Primer fila, primer columna"
   ]
  },
  {
   "cell_type": "code",
   "execution_count": 35,
   "id": "118a7064",
   "metadata": {},
   "outputs": [
    {
     "data": {
      "text/plain": [
       "array([4, 5, 6])"
      ]
     },
     "execution_count": 35,
     "metadata": {},
     "output_type": "execute_result"
    }
   ],
   "source": [
    "array2d[1,:]  # Segunda fila en adelante"
   ]
  },
  {
   "cell_type": "code",
   "execution_count": 36,
   "id": "50a471cf",
   "metadata": {},
   "outputs": [
    {
     "data": {
      "text/plain": [
       "array([5, 6])"
      ]
     },
     "execution_count": 36,
     "metadata": {},
     "output_type": "execute_result"
    }
   ],
   "source": [
    "array2d[1, 1:3]"
   ]
  },
  {
   "cell_type": "code",
   "execution_count": 37,
   "id": "0f3b4f12",
   "metadata": {},
   "outputs": [
    {
     "data": {
      "text/plain": [
       "array([[1, 2],\n",
       "       [4, 5]])"
      ]
     },
     "execution_count": 37,
     "metadata": {},
     "output_type": "execute_result"
    }
   ],
   "source": [
    "array2d[:2, :2]"
   ]
  },
  {
   "cell_type": "code",
   "execution_count": 38,
   "id": "daffe5eb",
   "metadata": {},
   "outputs": [
    {
     "data": {
      "text/plain": [
       "array([[False, False, False],\n",
       "       [False, False,  True],\n",
       "       [ True,  True,  True]])"
      ]
     },
     "execution_count": 38,
     "metadata": {},
     "output_type": "execute_result"
    }
   ],
   "source": [
    "#indexacion boolean\n",
    "array2d > 5"
   ]
  },
  {
   "cell_type": "code",
   "execution_count": 39,
   "id": "8076a9d3",
   "metadata": {},
   "outputs": [
    {
     "name": "stdout",
     "output_type": "stream",
     "text": [
      "5\n"
     ]
    }
   ],
   "source": [
    "#Crea un array de numpy nombrado numeros que contenga los primeros 10 números enteros (del 1 al 10).\n",
    "numeros = np.array([1,2,3,4,5,6,7,8,9,10])\n",
    "quinto_elemento = numeros[4]\n",
    "print(quinto_elemento)"
   ]
  },
  {
   "cell_type": "code",
   "execution_count": 41,
   "id": "572aa1b3",
   "metadata": {},
   "outputs": [
    {
     "data": {
      "text/plain": [
       "array([4, 5, 6])"
      ]
     },
     "execution_count": 41,
     "metadata": {},
     "output_type": "execute_result"
    }
   ],
   "source": [
    "\"\"\" \n",
    "Crea un array bidimensional al que nombres: matriz con forma (3, 3) \n",
    "que representa una matriz de números del 1 al 9.\n",
    " Escribe un código para extraer la segunda fila completa de esta matriz.\n",
    " Almacenala en una variable nombrada segunda_fila\n",
    "\"\"\"\n",
    "matriz = np.array([[1, 2, 3], [4, 5, 6], [7, 8, 9]])\n",
    "segunda_fila = matriz[1, :]\n",
    "segunda_fila"
   ]
  },
  {
   "cell_type": "markdown",
   "id": "13a3d11c",
   "metadata": {},
   "source": [
    "<h2>Forma y estructura de Arrays</h2>"
   ]
  },
  {
   "cell_type": "code",
   "execution_count": 46,
   "id": "6900b4ce",
   "metadata": {},
   "outputs": [
    {
     "data": {
      "text/plain": [
       "array([1, 2, 3, 4, 5, 6, 7, 8, 9])"
      ]
     },
     "execution_count": 46,
     "metadata": {},
     "output_type": "execute_result"
    }
   ],
   "source": [
    "array = np.array([1,2,3,4,5,6,7,8,9])\n",
    "array "
   ]
  },
  {
   "cell_type": "code",
   "execution_count": 47,
   "id": "bb8b5281",
   "metadata": {},
   "outputs": [
    {
     "data": {
      "text/plain": [
       "array([[1, 2, 3],\n",
       "       [4, 5, 6],\n",
       "       [7, 8, 9]])"
      ]
     },
     "execution_count": 47,
     "metadata": {},
     "output_type": "execute_result"
    }
   ],
   "source": [
    "array_mod = array.reshape(3,3)\n",
    "array_mod"
   ]
  },
  {
   "cell_type": "code",
   "execution_count": 49,
   "id": "f093dbda",
   "metadata": {},
   "outputs": [
    {
     "data": {
      "text/plain": [
       "array([[1, 2, 3],\n",
       "       [4, 5, 6],\n",
       "       [7, 8, 9]])"
      ]
     },
     "execution_count": 49,
     "metadata": {},
     "output_type": "execute_result"
    }
   ],
   "source": [
    "array_mod2= array.reshape(-1, 3)\n",
    "array_mod2"
   ]
  },
  {
   "cell_type": "code",
   "execution_count": 50,
   "id": "08357e20",
   "metadata": {},
   "outputs": [
    {
     "data": {
      "text/plain": [
       "array([[1, 4, 7],\n",
       "       [2, 5, 8],\n",
       "       [3, 6, 9]])"
      ]
     },
     "execution_count": 50,
     "metadata": {},
     "output_type": "execute_result"
    }
   ],
   "source": [
    "array_volteado = array_mod2.transpose()\n",
    "array_volteado"
   ]
  },
  {
   "cell_type": "code",
   "execution_count": 51,
   "id": "41f2bd26",
   "metadata": {},
   "outputs": [
    {
     "data": {
      "text/plain": [
       "array([1, 2, 3, 4, 5, 6, 7, 8, 9])"
      ]
     },
     "execution_count": 51,
     "metadata": {},
     "output_type": "execute_result"
    }
   ],
   "source": [
    "array_chato = array_mod.flatten()\n",
    "array_chato"
   ]
  },
  {
   "cell_type": "code",
   "execution_count": 52,
   "id": "d6330076",
   "metadata": {},
   "outputs": [
    {
     "data": {
      "text/plain": [
       "array([1, 2, 3, 4, 5, 6, 7, 8, 9])"
      ]
     },
     "execution_count": 52,
     "metadata": {},
     "output_type": "execute_result"
    }
   ],
   "source": [
    "array_ravel = array_mod.ravel()\n",
    "array_ravel"
   ]
  },
  {
   "cell_type": "code",
   "execution_count": 53,
   "id": "86720a64",
   "metadata": {},
   "outputs": [
    {
     "data": {
      "text/plain": [
       "array([[ 1,  2,  3,  4],\n",
       "       [ 5,  6,  7,  8],\n",
       "       [ 9, 10, 11, 12]])"
      ]
     },
     "execution_count": 53,
     "metadata": {},
     "output_type": "execute_result"
    }
   ],
   "source": [
    "\"\"\"\n",
    "Crea un array de NumPy llamado array_original  que contenga \n",
    "los números del 1 al 12 y luego cambia su forma para\n",
    " que se convierta en un array de 3 filas y 4 columnas.\n",
    " Almacenalo en una variable llamada array_reshape\n",
    "\"\"\"\n",
    "array_original = np.array(range(1, 13))\n",
    "array_reshape = array_original.reshape(3, 4)\n",
    "array_reshape"
   ]
  },
  {
   "cell_type": "code",
   "execution_count": 55,
   "id": "bd801e42",
   "metadata": {},
   "outputs": [
    {
     "data": {
      "text/plain": [
       "(2, 3)"
      ]
     },
     "execution_count": 55,
     "metadata": {},
     "output_type": "execute_result"
    }
   ],
   "source": [
    "array_original = np.array([[1,2,3], [4,5,6]])\n",
    "array_original.shape"
   ]
  },
  {
   "cell_type": "code",
   "execution_count": 57,
   "id": "5a472eaf",
   "metadata": {},
   "outputs": [
    {
     "data": {
      "text/plain": [
       "array([[1, 4],\n",
       "       [2, 5],\n",
       "       [3, 6]])"
      ]
     },
     "execution_count": 57,
     "metadata": {},
     "output_type": "execute_result"
    }
   ],
   "source": [
    "array_modificado = array_original.transpose()\n",
    "array_modificado"
   ]
  },
  {
   "cell_type": "markdown",
   "id": "cb7e10d9",
   "metadata": {},
   "source": [
    "<h2>Broadcasting</h1>"
   ]
  },
  {
   "cell_type": "code",
   "execution_count": 58,
   "id": "d5a5a1b8",
   "metadata": {},
   "outputs": [
    {
     "data": {
      "text/plain": [
       "array([1, 2, 3])"
      ]
     },
     "execution_count": 58,
     "metadata": {},
     "output_type": "execute_result"
    }
   ],
   "source": [
    "array1 = np.array([1,2,3])\n",
    "array1"
   ]
  },
  {
   "cell_type": "code",
   "execution_count": 59,
   "id": "a815c00a",
   "metadata": {},
   "outputs": [
    {
     "data": {
      "text/plain": [
       "array([[ 0],\n",
       "       [10],\n",
       "       [20],\n",
       "       [30]])"
      ]
     },
     "execution_count": 59,
     "metadata": {},
     "output_type": "execute_result"
    }
   ],
   "source": [
    "array2 = np.array([[0],[10],[20],[30]])\n",
    "array2"
   ]
  },
  {
   "cell_type": "code",
   "execution_count": 60,
   "id": "beb6ff5d",
   "metadata": {},
   "outputs": [
    {
     "data": {
      "text/plain": [
       "array([[ 1,  2,  3],\n",
       "       [11, 12, 13],\n",
       "       [21, 22, 23],\n",
       "       [31, 32, 33]])"
      ]
     },
     "execution_count": 60,
     "metadata": {},
     "output_type": "execute_result"
    }
   ],
   "source": [
    "broadcast_suma = array1 + array2\n",
    "broadcast_suma"
   ]
  },
  {
   "cell_type": "code",
   "execution_count": 61,
   "id": "ff251d17",
   "metadata": {},
   "outputs": [
    {
     "data": {
      "text/plain": [
       "array([[ 0,  0,  0],\n",
       "       [10, 20, 30],\n",
       "       [20, 40, 60],\n",
       "       [30, 60, 90]])"
      ]
     },
     "execution_count": 61,
     "metadata": {},
     "output_type": "execute_result"
    }
   ],
   "source": [
    "broadcast_multi = array1 * array2\n",
    "broadcast_multi"
   ]
  },
  {
   "cell_type": "code",
   "execution_count": null,
   "id": "a83d6f1d",
   "metadata": {},
   "outputs": [
    {
     "data": {
      "text/plain": [
       "array([5, 7, 9])"
      ]
     },
     "execution_count": 63,
     "metadata": {},
     "output_type": "execute_result"
    }
   ],
   "source": [
    "#funciones universales\n",
    "a = np.array([1,2,3])\n",
    "b = np.array([4,5,6])\n"
   ]
  },
  {
   "cell_type": "code",
   "execution_count": 65,
   "id": "1aee8abb",
   "metadata": {},
   "outputs": [
    {
     "data": {
      "text/plain": [
       "array([5, 7, 9])"
      ]
     },
     "execution_count": 65,
     "metadata": {},
     "output_type": "execute_result"
    }
   ],
   "source": [
    "resultado = np.add(a, b)\n",
    "resultado"
   ]
  },
  {
   "cell_type": "code",
   "execution_count": 67,
   "id": "ffd53acd",
   "metadata": {},
   "outputs": [
    {
     "data": {
      "text/plain": [
       "array([ 2.71828183,  7.3890561 , 20.08553692])"
      ]
     },
     "execution_count": 67,
     "metadata": {},
     "output_type": "execute_result"
    }
   ],
   "source": [
    "resultado2 = np.exp(a)\n",
    "resultado2"
   ]
  },
  {
   "cell_type": "code",
   "execution_count": 68,
   "id": "01112f45",
   "metadata": {},
   "outputs": [
    {
     "data": {
      "text/plain": [
       "array([0.        , 0.69314718, 1.09861229])"
      ]
     },
     "execution_count": 68,
     "metadata": {},
     "output_type": "execute_result"
    }
   ],
   "source": [
    "resultado3 = np.log(a)\n",
    "resultado3"
   ]
  },
  {
   "cell_type": "code",
   "execution_count": 70,
   "id": "e2a00ec1",
   "metadata": {},
   "outputs": [
    {
     "data": {
      "text/plain": [
       "array([0.        , 0.30103   , 0.47712125])"
      ]
     },
     "execution_count": 70,
     "metadata": {},
     "output_type": "execute_result"
    }
   ],
   "source": [
    "resultado4 = np.log10(a)\n",
    "resultado4\n"
   ]
  },
  {
   "cell_type": "code",
   "execution_count": 73,
   "id": "b5d36b6a",
   "metadata": {},
   "outputs": [
    {
     "data": {
      "text/plain": [
       "array([1.        , 1.41421356, 1.73205081])"
      ]
     },
     "execution_count": 73,
     "metadata": {},
     "output_type": "execute_result"
    }
   ],
   "source": [
    "resultado5 = np.sqrt(a)\n",
    "resultado5"
   ]
  },
  {
   "cell_type": "markdown",
   "id": "cd5c5bd2",
   "metadata": {},
   "source": [
    "<h2>Tratamiento numero faltantes</h2>"
   ]
  },
  {
   "cell_type": "code",
   "execution_count": 74,
   "id": "a9379377",
   "metadata": {},
   "outputs": [
    {
     "data": {
      "text/plain": [
       "array([ 1.,  2., nan,  4.,  5.])"
      ]
     },
     "execution_count": 74,
     "metadata": {},
     "output_type": "execute_result"
    }
   ],
   "source": [
    "array = np.array([1, 2, np.nan, 4, 5])\n",
    "array"
   ]
  },
  {
   "cell_type": "code",
   "execution_count": 75,
   "id": "b9790f14",
   "metadata": {},
   "outputs": [
    {
     "data": {
      "text/plain": [
       "array([False, False,  True, False, False])"
      ]
     },
     "execution_count": 75,
     "metadata": {},
     "output_type": "execute_result"
    }
   ],
   "source": [
    "np.isnan(array)"
   ]
  },
  {
   "cell_type": "code",
   "execution_count": 76,
   "id": "dd80de9c",
   "metadata": {},
   "outputs": [
    {
     "data": {
      "text/plain": [
       "nan"
      ]
     },
     "execution_count": 76,
     "metadata": {},
     "output_type": "execute_result"
    }
   ],
   "source": [
    "np.min(array)"
   ]
  },
  {
   "cell_type": "code",
   "execution_count": 78,
   "id": "3248d6af",
   "metadata": {},
   "outputs": [
    {
     "data": {
      "text/plain": [
       "3.0"
      ]
     },
     "execution_count": 78,
     "metadata": {},
     "output_type": "execute_result"
    }
   ],
   "source": [
    "np.nanmean(array)\n"
   ]
  },
  {
   "cell_type": "code",
   "execution_count": 79,
   "id": "14285674",
   "metadata": {},
   "outputs": [
    {
     "data": {
      "text/plain": [
       "array([1., 2., 0., 4., 5.])"
      ]
     },
     "execution_count": 79,
     "metadata": {},
     "output_type": "execute_result"
    }
   ],
   "source": [
    "array_con_0 = np.where(np.isnan(array), 0, array)\n",
    "array_con_0"
   ]
  },
  {
   "cell_type": "code",
   "execution_count": 81,
   "id": "66c35034",
   "metadata": {},
   "outputs": [
    {
     "data": {
      "text/plain": [
       "array([1. , 2. , 2.4, 4. , 5. ])"
      ]
     },
     "execution_count": 81,
     "metadata": {},
     "output_type": "execute_result"
    }
   ],
   "source": [
    "promedio = np.mean(array_con_0)\n",
    "array_con_promedio = np.where(np.isnan(array), promedio, array)\n",
    "array_con_promedio"
   ]
  },
  {
   "cell_type": "code",
   "execution_count": 83,
   "id": "4ea87852",
   "metadata": {},
   "outputs": [
    {
     "data": {
      "text/plain": [
       "array([1., 2., 4., 5.])"
      ]
     },
     "execution_count": 83,
     "metadata": {},
     "output_type": "execute_result"
    }
   ],
   "source": [
    "\n",
    "array_filtrado = array[~np.isnan(array)]\n",
    "array_filtrado"
   ]
  },
  {
   "cell_type": "code",
   "execution_count": 84,
   "id": "803d0034",
   "metadata": {},
   "outputs": [
    {
     "data": {
      "text/plain": [
       "array([nan])"
      ]
     },
     "execution_count": 84,
     "metadata": {},
     "output_type": "execute_result"
    }
   ],
   "source": [
    "\n",
    "array_filtrado = array[np.isnan(array)]\n",
    "array_filtrado"
   ]
  },
  {
   "cell_type": "code",
   "execution_count": 85,
   "id": "446c7bb9",
   "metadata": {},
   "outputs": [
    {
     "name": "stderr",
     "output_type": "stream",
     "text": [
      "<>:1: SyntaxWarning: invalid escape sequence '\\p'\n",
      "<>:1: SyntaxWarning: invalid escape sequence '\\p'\n",
      "C:\\Users\\matab\\AppData\\Local\\Temp\\ipykernel_23160\\1134737076.py:1: SyntaxWarning: invalid escape sequence '\\p'\n",
      "  array = np.genfromtxt('dataFrames\\pandas\\medallas.csv')\n",
      "C:\\Users\\matab\\AppData\\Local\\Temp\\ipykernel_23160\\1134737076.py:1: SyntaxWarning: invalid escape sequence '\\p'\n",
      "  array = np.genfromtxt('dataFrames\\pandas\\medallas.csv')\n"
     ]
    },
    {
     "ename": "ValueError",
     "evalue": "Some errors were detected !\n    Line #15 (got 2 columns instead of 1)\n    Line #17 (got 2 columns instead of 1)\n    Line #20 (got 2 columns instead of 1)\n    Line #22 (got 2 columns instead of 1)\n    Line #24 (got 2 columns instead of 1)\n    Line #27 (got 4 columns instead of 1)\n    Line #36 (got 2 columns instead of 1)\n    Line #39 (got 3 columns instead of 1)\n    Line #44 (got 4 columns instead of 1)\n    Line #63 (got 2 columns instead of 1)\n    Line #65 (got 2 columns instead of 1)\n    Line #70 (got 2 columns instead of 1)\n    Line #72 (got 3 columns instead of 1)\n    Line #73 (got 3 columns instead of 1)\n    Line #74 (got 4 columns instead of 1)\n    Line #77 (got 2 columns instead of 1)\n    Line #78 (got 2 columns instead of 1)\n    Line #82 (got 2 columns instead of 1)\n    Line #86 (got 3 columns instead of 1)",
     "output_type": "error",
     "traceback": [
      "\u001b[1;31m---------------------------------------------------------------------------\u001b[0m",
      "\u001b[1;31mValueError\u001b[0m                                Traceback (most recent call last)",
      "Cell \u001b[1;32mIn[85], line 1\u001b[0m\n\u001b[1;32m----> 1\u001b[0m array \u001b[38;5;241m=\u001b[39m \u001b[43mnp\u001b[49m\u001b[38;5;241;43m.\u001b[39;49m\u001b[43mgenfromtxt\u001b[49m\u001b[43m(\u001b[49m\u001b[38;5;124;43m'\u001b[39;49m\u001b[38;5;124;43mdataFrames\u001b[39;49m\u001b[38;5;124;43m\\\u001b[39;49m\u001b[38;5;124;43mpandas\u001b[39;49m\u001b[38;5;124;43m\\\u001b[39;49m\u001b[38;5;124;43mmedallas.csv\u001b[39;49m\u001b[38;5;124;43m'\u001b[39;49m\u001b[43m)\u001b[49m\n\u001b[0;32m      2\u001b[0m array\n",
      "File \u001b[1;32mc:\\Users\\matab\\AppData\\Local\\Programs\\Python\\Python312\\Lib\\site-packages\\numpy\\lib\\npyio.py:2312\u001b[0m, in \u001b[0;36mgenfromtxt\u001b[1;34m(fname, dtype, comments, delimiter, skip_header, skip_footer, converters, missing_values, filling_values, usecols, names, excludelist, deletechars, replace_space, autostrip, case_sensitive, defaultfmt, unpack, usemask, loose, invalid_raise, max_rows, encoding, ndmin, like)\u001b[0m\n\u001b[0;32m   2310\u001b[0m \u001b[38;5;66;03m# Raise an exception ?\u001b[39;00m\n\u001b[0;32m   2311\u001b[0m \u001b[38;5;28;01mif\u001b[39;00m invalid_raise:\n\u001b[1;32m-> 2312\u001b[0m     \u001b[38;5;28;01mraise\u001b[39;00m \u001b[38;5;167;01mValueError\u001b[39;00m(errmsg)\n\u001b[0;32m   2313\u001b[0m \u001b[38;5;66;03m# Issue a warning ?\u001b[39;00m\n\u001b[0;32m   2314\u001b[0m \u001b[38;5;28;01melse\u001b[39;00m:\n\u001b[0;32m   2315\u001b[0m     warnings\u001b[38;5;241m.\u001b[39mwarn(errmsg, ConversionWarning, stacklevel\u001b[38;5;241m=\u001b[39m\u001b[38;5;241m2\u001b[39m)\n",
      "\u001b[1;31mValueError\u001b[0m: Some errors were detected !\n    Line #15 (got 2 columns instead of 1)\n    Line #17 (got 2 columns instead of 1)\n    Line #20 (got 2 columns instead of 1)\n    Line #22 (got 2 columns instead of 1)\n    Line #24 (got 2 columns instead of 1)\n    Line #27 (got 4 columns instead of 1)\n    Line #36 (got 2 columns instead of 1)\n    Line #39 (got 3 columns instead of 1)\n    Line #44 (got 4 columns instead of 1)\n    Line #63 (got 2 columns instead of 1)\n    Line #65 (got 2 columns instead of 1)\n    Line #70 (got 2 columns instead of 1)\n    Line #72 (got 3 columns instead of 1)\n    Line #73 (got 3 columns instead of 1)\n    Line #74 (got 4 columns instead of 1)\n    Line #77 (got 2 columns instead of 1)\n    Line #78 (got 2 columns instead of 1)\n    Line #82 (got 2 columns instead of 1)\n    Line #86 (got 3 columns instead of 1)"
     ]
    }
   ],
   "source": [
    "array = np.genfromtxt('dataFrames\\pandas\\medallas.csv')\n",
    "array"
   ]
  },
  {
   "cell_type": "code",
   "execution_count": 90,
   "id": "85ec83e3",
   "metadata": {},
   "outputs": [
    {
     "data": {
      "text/plain": [
       "array([[ nan,  nan,  nan,  nan,  nan],\n",
       "       [ nan,   1.,   2.,   3.,  nan],\n",
       "       [ nan,   2.,   2.,   4.,  nan],\n",
       "       [ 17.,   7.,  22.,  46.,  nan],\n",
       "       [  1.,   1.,   5.,   7.,  nan],\n",
       "       [ nan,   3.,   4.,   7.,  nan],\n",
       "       [  2.,  nan,  nan,   2.,  nan],\n",
       "       [ nan,   1.,  nan,   1.,  nan],\n",
       "       [  1.,   3.,   3.,   7.,  nan],\n",
       "       [  3.,   1.,   3.,   7.,  nan],\n",
       "       [  1.,  nan,  nan,   1.,  nan],\n",
       "       [ nan,  nan,   1.,   1.,  nan],\n",
       "       [  7.,   6.,   8.,  21.,  nan],\n",
       "       [  3.,   1.,   2.,   6.,  nan],\n",
       "       [ nan,  nan,   1.,   1.,  nan],\n",
       "       [  7.,   6.,  11.,  24.,  nan],\n",
       "       [  2.,   4.,   6.,  12.,  nan],\n",
       "       [ nan,   4.,   1.,   5.,  nan],\n",
       "       [  3.,   3.,   2.,   8.,  nan],\n",
       "       [ nan,  nan,   1.,   1.,  nan],\n",
       "       [  7.,   3.,   5.,  15.,  nan],\n",
       "       [  4.,   4.,   3.,  11.,  nan],\n",
       "       [  3.,   4.,   4.,  11.,  nan],\n",
       "       [ nan,   3.,   2.,   5.,  nan],\n",
       "       [  2.,   1.,  nan,   3.,  nan],\n",
       "       [  1.,   1.,   4.,   6.,  nan],\n",
       "       [ 39.,  41.,  33., 113.,  nan],\n",
       "       [  1.,  nan,   1.,   2.,  nan],\n",
       "       [  1.,   1.,   2.,   4.,  nan],\n",
       "       [  1.,  nan,   1.,   2.,  nan],\n",
       "       [ nan,  nan,   2.,   2.,  nan],\n",
       "       [  1.,  12.,  11.,  33.,  nan],\n",
       "       [  2.,   5.,   1.,   8.,  nan],\n",
       "       [  1.,  11.,  16.,  37.,  nan],\n",
       "       [ nan,  nan,   1.,   1.,  nan],\n",
       "       [ 22.,  21.,  22.,  65.,  nan],\n",
       "       [  2.,   1.,   1.,   4.,  nan],\n",
       "       [ nan,  nan,   1.,   1.,  nan],\n",
       "       [ nan,   2.,   3.,   6.,  nan],\n",
       "       [  6.,   7.,   7.,   2.,  nan],\n",
       "       [  1.,   2.,   4.,   7.,  nan],\n",
       "       [  1.,   1.,   3.,   5.,  nan],\n",
       "       [  2.,  nan,   2.,   4.,  nan],\n",
       "       [  3.,   2.,   2.,   7.,  nan],\n",
       "       [  2.,  nan,   2.,   4.,  nan],\n",
       "       [  1.,   1.,   2.,   4.,  nan],\n",
       "       [  4.,   1.,   4.,   9.,  nan],\n",
       "       [ 27.,  14.,  17.,  58.,  nan],\n",
       "       [ nan,   1.,   1.,   2.,  nan],\n",
       "       [ nan,  nan,   8.,   8.,  nan],\n",
       "       [  4.,   4.,   2.,   1.,  nan],\n",
       "       [  2.,  nan,  nan,   2.,  nan],\n",
       "       [ nan,  nan,   1.,   1.,  nan],\n",
       "       [ nan,   2.,   1.,   3.,  nan],\n",
       "       [  1.,  nan,   1.,   2.,  nan],\n",
       "       [ nan,   1.,  nan,   1.,  nan],\n",
       "       [ nan,   1.,   1.,   2.,  nan],\n",
       "       [ nan,  nan,   4.,   4.,  nan],\n",
       "       [ nan,   1.,   3.,   4.,  nan],\n",
       "       [  1.,  nan,  nan,   1.,  nan],\n",
       "       [ nan,   1.,  nan,   1.,  nan],\n",
       "       [  1.,  12.,  14.,  36.,  nan],\n",
       "       [  7.,   6.,   7.,   2.,  nan],\n",
       "       [ nan,   1.,   1.,   2.,  nan],\n",
       "       [ nan,   1.,  nan,   1.,  nan],\n",
       "       [  4.,   2.,   2.,   8.,  nan],\n",
       "       [  1.,   2.,   1.,   4.,  nan],\n",
       "       [  4.,   5.,   5.,  14.,  nan],\n",
       "       [  1.,   1.,   2.,   4.,  nan],\n",
       "       [  1.,  nan,  nan,   1.,  nan],\n",
       "       [  2.,  nan,   1.,   3.,  nan],\n",
       "       [  6.,   4.,   1.,   2.,  nan],\n",
       "       [ nan,  nan,   1.,   1.,  nan],\n",
       "       [ 38.,  32.,  18.,  88.,  nan],\n",
       "       [  2.,  28.,  23.,  71.,  nan],\n",
       "       [  1.,   3.,  nan,   4.,  nan],\n",
       "       [ nan,   1.,   2.,   3.,  nan],\n",
       "       [ nan,   1.,  nan,   1.,  nan],\n",
       "       [  3.,   1.,   5.,   9.,  nan],\n",
       "       [  1.,   2.,   1.,   4.,  nan],\n",
       "       [  3.,   1.,   1.,   5.,  nan],\n",
       "       [  1.,   2.,  nan,   3.,  nan],\n",
       "       [  3.,   8.,   6.,  17.,  nan],\n",
       "       [  3.,   6.,  nan,   9.,  nan],\n",
       "       [  3.,   4.,   6.,  13.,  nan],\n",
       "       [ nan,  nan,   1.,   1.,  nan],\n",
       "       [  1.,  nan,   1.,   2.,  nan],\n",
       "       [  1.,   1.,  nan,   2.,  nan],\n",
       "       [  2.,   2.,   9.,  13.,  nan],\n",
       "       [ nan,   1.,  nan,   1.,  nan],\n",
       "       [  2.,   1.,   1.,   4.,  nan],\n",
       "       [  1.,   6.,  12.,  19.,  nan],\n",
       "       [  3.,  nan,   2.,   5.,  nan],\n",
       "       [  1.,   3.,  nan,   4.,  nan]])"
      ]
     },
     "execution_count": 90,
     "metadata": {},
     "output_type": "execute_result"
    }
   ],
   "source": [
    "array = np.genfromtxt('dataFrames\\\\numpy\\\\medallas (1).csv',delimiter=',')\n",
    "array"
   ]
  },
  {
   "cell_type": "code",
   "execution_count": 89,
   "id": "f03a6e69",
   "metadata": {},
   "outputs": [
    {
     "name": "stderr",
     "output_type": "stream",
     "text": [
      "<>:1: SyntaxWarning: invalid escape sequence '\\m'\n",
      "<>:1: SyntaxWarning: invalid escape sequence '\\m'\n",
      "C:\\Users\\matab\\AppData\\Local\\Temp\\ipykernel_23160\\2396860756.py:1: SyntaxWarning: invalid escape sequence '\\m'\n",
      "  array = np.genfromtxt('dataFrames\\\\numpy\\medallas (1).csv',delimiter=',',filling_values=0)\n"
     ]
    },
    {
     "data": {
      "text/plain": [
       "array([[  0.,   0.,   0.,   0.,   0.],\n",
       "       [  0.,   1.,   2.,   3.,   0.],\n",
       "       [  0.,   2.,   2.,   4.,   0.],\n",
       "       [ 17.,   7.,  22.,  46.,   0.],\n",
       "       [  1.,   1.,   5.,   7.,   0.],\n",
       "       [  0.,   3.,   4.,   7.,   0.],\n",
       "       [  2.,   0.,   0.,   2.,   0.],\n",
       "       [  0.,   1.,   0.,   1.,   0.],\n",
       "       [  1.,   3.,   3.,   7.,   0.],\n",
       "       [  3.,   1.,   3.,   7.,   0.],\n",
       "       [  1.,   0.,   0.,   1.,   0.],\n",
       "       [  0.,   0.,   1.,   1.,   0.],\n",
       "       [  7.,   6.,   8.,  21.,   0.],\n",
       "       [  3.,   1.,   2.,   6.,   0.],\n",
       "       [  0.,   0.,   1.,   1.,   0.],\n",
       "       [  7.,   6.,  11.,  24.,   0.],\n",
       "       [  2.,   4.,   6.,  12.,   0.],\n",
       "       [  0.,   4.,   1.,   5.,   0.],\n",
       "       [  3.,   3.,   2.,   8.,   0.],\n",
       "       [  0.,   0.,   1.,   1.,   0.],\n",
       "       [  7.,   3.,   5.,  15.,   0.],\n",
       "       [  4.,   4.,   3.,  11.,   0.],\n",
       "       [  3.,   4.,   4.,  11.,   0.],\n",
       "       [  0.,   3.,   2.,   5.,   0.],\n",
       "       [  2.,   1.,   0.,   3.,   0.],\n",
       "       [  1.,   1.,   4.,   6.,   0.],\n",
       "       [ 39.,  41.,  33., 113.,   0.],\n",
       "       [  1.,   0.,   1.,   2.,   0.],\n",
       "       [  1.,   1.,   2.,   4.,   0.],\n",
       "       [  1.,   0.,   1.,   2.,   0.],\n",
       "       [  0.,   0.,   2.,   2.,   0.],\n",
       "       [  1.,  12.,  11.,  33.,   0.],\n",
       "       [  2.,   5.,   1.,   8.,   0.],\n",
       "       [  1.,  11.,  16.,  37.,   0.],\n",
       "       [  0.,   0.,   1.,   1.,   0.],\n",
       "       [ 22.,  21.,  22.,  65.,   0.],\n",
       "       [  2.,   1.,   1.,   4.,   0.],\n",
       "       [  0.,   0.,   1.,   1.,   0.],\n",
       "       [  0.,   2.,   3.,   6.,   0.],\n",
       "       [  6.,   7.,   7.,   2.,   0.],\n",
       "       [  1.,   2.,   4.,   7.,   0.],\n",
       "       [  1.,   1.,   3.,   5.,   0.],\n",
       "       [  2.,   0.,   2.,   4.,   0.],\n",
       "       [  3.,   2.,   2.,   7.,   0.],\n",
       "       [  2.,   0.,   2.,   4.,   0.],\n",
       "       [  1.,   1.,   2.,   4.,   0.],\n",
       "       [  4.,   1.,   4.,   9.,   0.],\n",
       "       [ 27.,  14.,  17.,  58.,   0.],\n",
       "       [  0.,   1.,   1.,   2.,   0.],\n",
       "       [  0.,   0.,   8.,   8.,   0.],\n",
       "       [  4.,   4.,   2.,   1.,   0.],\n",
       "       [  2.,   0.,   0.,   2.,   0.],\n",
       "       [  0.,   0.,   1.,   1.,   0.],\n",
       "       [  0.,   2.,   1.,   3.,   0.],\n",
       "       [  1.,   0.,   1.,   2.,   0.],\n",
       "       [  0.,   1.,   0.,   1.,   0.],\n",
       "       [  0.,   1.,   1.,   2.,   0.],\n",
       "       [  0.,   0.,   4.,   4.,   0.],\n",
       "       [  0.,   1.,   3.,   4.,   0.],\n",
       "       [  1.,   0.,   0.,   1.,   0.],\n",
       "       [  0.,   1.,   0.,   1.,   0.],\n",
       "       [  1.,  12.,  14.,  36.,   0.],\n",
       "       [  7.,   6.,   7.,   2.,   0.],\n",
       "       [  0.,   1.,   1.,   2.,   0.],\n",
       "       [  0.,   1.,   0.,   1.,   0.],\n",
       "       [  4.,   2.,   2.,   8.,   0.],\n",
       "       [  1.,   2.,   1.,   4.,   0.],\n",
       "       [  4.,   5.,   5.,  14.,   0.],\n",
       "       [  1.,   1.,   2.,   4.,   0.],\n",
       "       [  1.,   0.,   0.,   1.,   0.],\n",
       "       [  2.,   0.,   1.,   3.,   0.],\n",
       "       [  6.,   4.,   1.,   2.,   0.],\n",
       "       [  0.,   0.,   1.,   1.,   0.],\n",
       "       [ 38.,  32.,  18.,  88.,   0.],\n",
       "       [  2.,  28.,  23.,  71.,   0.],\n",
       "       [  1.,   3.,   0.,   4.,   0.],\n",
       "       [  0.,   1.,   2.,   3.,   0.],\n",
       "       [  0.,   1.,   0.,   1.,   0.],\n",
       "       [  3.,   1.,   5.,   9.,   0.],\n",
       "       [  1.,   2.,   1.,   4.,   0.],\n",
       "       [  3.,   1.,   1.,   5.,   0.],\n",
       "       [  1.,   2.,   0.,   3.,   0.],\n",
       "       [  3.,   8.,   6.,  17.,   0.],\n",
       "       [  3.,   6.,   0.,   9.,   0.],\n",
       "       [  3.,   4.,   6.,  13.,   0.],\n",
       "       [  0.,   0.,   1.,   1.,   0.],\n",
       "       [  1.,   0.,   1.,   2.,   0.],\n",
       "       [  1.,   1.,   0.,   2.,   0.],\n",
       "       [  2.,   2.,   9.,  13.,   0.],\n",
       "       [  0.,   1.,   0.,   1.,   0.],\n",
       "       [  2.,   1.,   1.,   4.,   0.],\n",
       "       [  1.,   6.,  12.,  19.,   0.],\n",
       "       [  3.,   0.,   2.,   5.,   0.],\n",
       "       [  1.,   3.,   0.,   4.,   0.]])"
      ]
     },
     "execution_count": 89,
     "metadata": {},
     "output_type": "execute_result"
    }
   ],
   "source": [
    "array = np.genfromtxt('dataFrames\\\\numpy\\medallas (1).csv',delimiter=',',filling_values=0)\n",
    "array"
   ]
  },
  {
   "cell_type": "code",
   "execution_count": 91,
   "id": "356c8a57",
   "metadata": {},
   "outputs": [
    {
     "data": {
      "text/plain": [
       "array([[  0.,   1.,   2.,   3.,   0.],\n",
       "       [  0.,   2.,   2.,   4.,   0.],\n",
       "       [ 17.,   7.,  22.,  46.,   0.],\n",
       "       [  1.,   1.,   5.,   7.,   0.],\n",
       "       [  0.,   3.,   4.,   7.,   0.],\n",
       "       [  2.,   0.,   0.,   2.,   0.],\n",
       "       [  0.,   1.,   0.,   1.,   0.],\n",
       "       [  1.,   3.,   3.,   7.,   0.],\n",
       "       [  3.,   1.,   3.,   7.,   0.],\n",
       "       [  1.,   0.,   0.,   1.,   0.],\n",
       "       [  0.,   0.,   1.,   1.,   0.],\n",
       "       [  7.,   6.,   8.,  21.,   0.],\n",
       "       [  3.,   1.,   2.,   6.,   0.],\n",
       "       [  0.,   0.,   1.,   1.,   0.],\n",
       "       [  7.,   6.,  11.,  24.,   0.],\n",
       "       [  2.,   4.,   6.,  12.,   0.],\n",
       "       [  0.,   4.,   1.,   5.,   0.],\n",
       "       [  3.,   3.,   2.,   8.,   0.],\n",
       "       [  0.,   0.,   1.,   1.,   0.],\n",
       "       [  7.,   3.,   5.,  15.,   0.],\n",
       "       [  4.,   4.,   3.,  11.,   0.],\n",
       "       [  3.,   4.,   4.,  11.,   0.],\n",
       "       [  0.,   3.,   2.,   5.,   0.],\n",
       "       [  2.,   1.,   0.,   3.,   0.],\n",
       "       [  1.,   1.,   4.,   6.,   0.],\n",
       "       [ 39.,  41.,  33., 113.,   0.],\n",
       "       [  1.,   0.,   1.,   2.,   0.],\n",
       "       [  1.,   1.,   2.,   4.,   0.],\n",
       "       [  1.,   0.,   1.,   2.,   0.],\n",
       "       [  0.,   0.,   2.,   2.,   0.],\n",
       "       [  1.,  12.,  11.,  33.,   0.],\n",
       "       [  2.,   5.,   1.,   8.,   0.],\n",
       "       [  1.,  11.,  16.,  37.,   0.],\n",
       "       [  0.,   0.,   1.,   1.,   0.],\n",
       "       [ 22.,  21.,  22.,  65.,   0.],\n",
       "       [  2.,   1.,   1.,   4.,   0.],\n",
       "       [  0.,   0.,   1.,   1.,   0.],\n",
       "       [  0.,   2.,   3.,   6.,   0.],\n",
       "       [  6.,   7.,   7.,   2.,   0.],\n",
       "       [  1.,   2.,   4.,   7.,   0.],\n",
       "       [  1.,   1.,   3.,   5.,   0.],\n",
       "       [  2.,   0.,   2.,   4.,   0.],\n",
       "       [  3.,   2.,   2.,   7.,   0.],\n",
       "       [  2.,   0.,   2.,   4.,   0.],\n",
       "       [  1.,   1.,   2.,   4.,   0.],\n",
       "       [  4.,   1.,   4.,   9.,   0.],\n",
       "       [ 27.,  14.,  17.,  58.,   0.],\n",
       "       [  0.,   1.,   1.,   2.,   0.],\n",
       "       [  0.,   0.,   8.,   8.,   0.],\n",
       "       [  4.,   4.,   2.,   1.,   0.],\n",
       "       [  2.,   0.,   0.,   2.,   0.],\n",
       "       [  0.,   0.,   1.,   1.,   0.],\n",
       "       [  0.,   2.,   1.,   3.,   0.],\n",
       "       [  1.,   0.,   1.,   2.,   0.],\n",
       "       [  0.,   1.,   0.,   1.,   0.],\n",
       "       [  0.,   1.,   1.,   2.,   0.],\n",
       "       [  0.,   0.,   4.,   4.,   0.],\n",
       "       [  0.,   1.,   3.,   4.,   0.],\n",
       "       [  1.,   0.,   0.,   1.,   0.],\n",
       "       [  0.,   1.,   0.,   1.,   0.],\n",
       "       [  1.,  12.,  14.,  36.,   0.],\n",
       "       [  7.,   6.,   7.,   2.,   0.],\n",
       "       [  0.,   1.,   1.,   2.,   0.],\n",
       "       [  0.,   1.,   0.,   1.,   0.],\n",
       "       [  4.,   2.,   2.,   8.,   0.],\n",
       "       [  1.,   2.,   1.,   4.,   0.],\n",
       "       [  4.,   5.,   5.,  14.,   0.],\n",
       "       [  1.,   1.,   2.,   4.,   0.],\n",
       "       [  1.,   0.,   0.,   1.,   0.],\n",
       "       [  2.,   0.,   1.,   3.,   0.],\n",
       "       [  6.,   4.,   1.,   2.,   0.],\n",
       "       [  0.,   0.,   1.,   1.,   0.],\n",
       "       [ 38.,  32.,  18.,  88.,   0.],\n",
       "       [  2.,  28.,  23.,  71.,   0.],\n",
       "       [  1.,   3.,   0.,   4.,   0.],\n",
       "       [  0.,   1.,   2.,   3.,   0.],\n",
       "       [  0.,   1.,   0.,   1.,   0.],\n",
       "       [  3.,   1.,   5.,   9.,   0.],\n",
       "       [  1.,   2.,   1.,   4.,   0.],\n",
       "       [  3.,   1.,   1.,   5.,   0.],\n",
       "       [  1.,   2.,   0.,   3.,   0.],\n",
       "       [  3.,   8.,   6.,  17.,   0.],\n",
       "       [  3.,   6.,   0.,   9.,   0.],\n",
       "       [  3.,   4.,   6.,  13.,   0.],\n",
       "       [  0.,   0.,   1.,   1.,   0.],\n",
       "       [  1.,   0.,   1.,   2.,   0.],\n",
       "       [  1.,   1.,   0.,   2.,   0.],\n",
       "       [  2.,   2.,   9.,  13.,   0.],\n",
       "       [  0.,   1.,   0.,   1.,   0.],\n",
       "       [  2.,   1.,   1.,   4.,   0.],\n",
       "       [  1.,   6.,  12.,  19.,   0.],\n",
       "       [  3.,   0.,   2.,   5.,   0.],\n",
       "       [  1.,   3.,   0.,   4.,   0.]])"
      ]
     },
     "execution_count": 91,
     "metadata": {},
     "output_type": "execute_result"
    }
   ],
   "source": [
    "array = np.genfromtxt('dataFrames\\\\numpy\\\\medallas (1).csv',delimiter=',',filling_values=0, skip_header=1)\n",
    "array"
   ]
  },
  {
   "cell_type": "code",
   "execution_count": 92,
   "id": "ff2c8701",
   "metadata": {},
   "outputs": [
    {
     "data": {
      "text/plain": [
       "array([[  0,   1,   2,   3,   0],\n",
       "       [  0,   2,   2,   4,   0],\n",
       "       [ 17,   7,  22,  46,   0],\n",
       "       [  1,   1,   5,   7,   0],\n",
       "       [  0,   3,   4,   7,   0],\n",
       "       [  2,   0,   0,   2,   0],\n",
       "       [  0,   1,   0,   1,   0],\n",
       "       [  1,   3,   3,   7,   0],\n",
       "       [  3,   1,   3,   7,   0],\n",
       "       [  1,   0,   0,   1,   0],\n",
       "       [  0,   0,   1,   1,   0],\n",
       "       [  7,   6,   8,  21,   0],\n",
       "       [  3,   1,   2,   6,   0],\n",
       "       [  0,   0,   1,   1,   0],\n",
       "       [  7,   6,  11,  24,   0],\n",
       "       [  2,   4,   6,  12,   0],\n",
       "       [  0,   4,   1,   5,   0],\n",
       "       [  3,   3,   2,   8,   0],\n",
       "       [  0,   0,   1,   1,   0],\n",
       "       [  7,   3,   5,  15,   0],\n",
       "       [  4,   4,   3,  11,   0],\n",
       "       [  3,   4,   4,  11,   0],\n",
       "       [  0,   3,   2,   5,   0],\n",
       "       [  2,   1,   0,   3,   0],\n",
       "       [  1,   1,   4,   6,   0],\n",
       "       [ 39,  41,  33, 113,   0],\n",
       "       [  1,   0,   1,   2,   0],\n",
       "       [  1,   1,   2,   4,   0],\n",
       "       [  1,   0,   1,   2,   0],\n",
       "       [  0,   0,   2,   2,   0],\n",
       "       [  1,  12,  11,  33,   0],\n",
       "       [  2,   5,   1,   8,   0],\n",
       "       [  1,  11,  16,  37,   0],\n",
       "       [  0,   0,   1,   1,   0],\n",
       "       [ 22,  21,  22,  65,   0],\n",
       "       [  2,   1,   1,   4,   0],\n",
       "       [  0,   0,   1,   1,   0],\n",
       "       [  0,   2,   3,   6,   0],\n",
       "       [  6,   7,   7,   2,   0],\n",
       "       [  1,   2,   4,   7,   0],\n",
       "       [  1,   1,   3,   5,   0],\n",
       "       [  2,   0,   2,   4,   0],\n",
       "       [  3,   2,   2,   7,   0],\n",
       "       [  2,   0,   2,   4,   0],\n",
       "       [  1,   1,   2,   4,   0],\n",
       "       [  4,   1,   4,   9,   0],\n",
       "       [ 27,  14,  17,  58,   0],\n",
       "       [  0,   1,   1,   2,   0],\n",
       "       [  0,   0,   8,   8,   0],\n",
       "       [  4,   4,   2,   1,   0],\n",
       "       [  2,   0,   0,   2,   0],\n",
       "       [  0,   0,   1,   1,   0],\n",
       "       [  0,   2,   1,   3,   0],\n",
       "       [  1,   0,   1,   2,   0],\n",
       "       [  0,   1,   0,   1,   0],\n",
       "       [  0,   1,   1,   2,   0],\n",
       "       [  0,   0,   4,   4,   0],\n",
       "       [  0,   1,   3,   4,   0],\n",
       "       [  1,   0,   0,   1,   0],\n",
       "       [  0,   1,   0,   1,   0],\n",
       "       [  1,  12,  14,  36,   0],\n",
       "       [  7,   6,   7,   2,   0],\n",
       "       [  0,   1,   1,   2,   0],\n",
       "       [  0,   1,   0,   1,   0],\n",
       "       [  4,   2,   2,   8,   0],\n",
       "       [  1,   2,   1,   4,   0],\n",
       "       [  4,   5,   5,  14,   0],\n",
       "       [  1,   1,   2,   4,   0],\n",
       "       [  1,   0,   0,   1,   0],\n",
       "       [  2,   0,   1,   3,   0],\n",
       "       [  6,   4,   1,   2,   0],\n",
       "       [  0,   0,   1,   1,   0],\n",
       "       [ 38,  32,  18,  88,   0],\n",
       "       [  2,  28,  23,  71,   0],\n",
       "       [  1,   3,   0,   4,   0],\n",
       "       [  0,   1,   2,   3,   0],\n",
       "       [  0,   1,   0,   1,   0],\n",
       "       [  3,   1,   5,   9,   0],\n",
       "       [  1,   2,   1,   4,   0],\n",
       "       [  3,   1,   1,   5,   0],\n",
       "       [  1,   2,   0,   3,   0],\n",
       "       [  3,   8,   6,  17,   0],\n",
       "       [  3,   6,   0,   9,   0],\n",
       "       [  3,   4,   6,  13,   0],\n",
       "       [  0,   0,   1,   1,   0],\n",
       "       [  1,   0,   1,   2,   0],\n",
       "       [  1,   1,   0,   2,   0],\n",
       "       [  2,   2,   9,  13,   0],\n",
       "       [  0,   1,   0,   1,   0],\n",
       "       [  2,   1,   1,   4,   0],\n",
       "       [  1,   6,  12,  19,   0],\n",
       "       [  3,   0,   2,   5,   0],\n",
       "       [  1,   3,   0,   4,   0]])"
      ]
     },
     "execution_count": 92,
     "metadata": {},
     "output_type": "execute_result"
    }
   ],
   "source": [
    "array = np.genfromtxt('dataFrames\\\\numpy\\\\medallas (1).csv',delimiter=',',filling_values=0, skip_header=1, dtype=int)\n",
    "\n",
    "array"
   ]
  },
  {
   "cell_type": "code",
   "execution_count": 93,
   "id": "37a43c59",
   "metadata": {},
   "outputs": [],
   "source": [
    "array_ejemplo = np.array([[1,2,3],[4,5,6]])"
   ]
  },
  {
   "cell_type": "code",
   "execution_count": 94,
   "id": "a450adac",
   "metadata": {},
   "outputs": [],
   "source": [
    "np.savetxt('dataFrames\\\\numpy\\\\medallas_guardado.csv', array_ejemplo, delimiter=',', fmt='%d')"
   ]
  },
  {
   "cell_type": "markdown",
   "id": "559ddd2b",
   "metadata": {},
   "source": [
    "<h2>Pandas y Numpy</h2>"
   ]
  },
  {
   "cell_type": "code",
   "execution_count": 95,
   "id": "7eb6c8d3",
   "metadata": {},
   "outputs": [],
   "source": [
    "import pandas as pd\n",
    "import numpy as np"
   ]
  },
  {
   "cell_type": "code",
   "execution_count": 96,
   "id": "8fbad80d",
   "metadata": {},
   "outputs": [
    {
     "data": {
      "application/vnd.microsoft.datawrangler.viewer.v0+json": {
       "columns": [
        {
         "name": "index",
         "rawType": "int64",
         "type": "integer"
        },
        {
         "name": "Impares",
         "rawType": "int64",
         "type": "integer"
        },
        {
         "name": "Pares",
         "rawType": "int64",
         "type": "integer"
        }
       ],
       "ref": "51028f8a-6aad-4856-a406-a354c1deff43",
       "rows": [
        [
         "0",
         "1",
         "2"
        ],
        [
         "1",
         "3",
         "4"
        ],
        [
         "2",
         "5",
         "6"
        ]
       ],
       "shape": {
        "columns": 2,
        "rows": 3
       }
      },
      "text/html": [
       "<div>\n",
       "<style scoped>\n",
       "    .dataframe tbody tr th:only-of-type {\n",
       "        vertical-align: middle;\n",
       "    }\n",
       "\n",
       "    .dataframe tbody tr th {\n",
       "        vertical-align: top;\n",
       "    }\n",
       "\n",
       "    .dataframe thead th {\n",
       "        text-align: right;\n",
       "    }\n",
       "</style>\n",
       "<table border=\"1\" class=\"dataframe\">\n",
       "  <thead>\n",
       "    <tr style=\"text-align: right;\">\n",
       "      <th></th>\n",
       "      <th>Impares</th>\n",
       "      <th>Pares</th>\n",
       "    </tr>\n",
       "  </thead>\n",
       "  <tbody>\n",
       "    <tr>\n",
       "      <th>0</th>\n",
       "      <td>1</td>\n",
       "      <td>2</td>\n",
       "    </tr>\n",
       "    <tr>\n",
       "      <th>1</th>\n",
       "      <td>3</td>\n",
       "      <td>4</td>\n",
       "    </tr>\n",
       "    <tr>\n",
       "      <th>2</th>\n",
       "      <td>5</td>\n",
       "      <td>6</td>\n",
       "    </tr>\n",
       "  </tbody>\n",
       "</table>\n",
       "</div>"
      ],
      "text/plain": [
       "   Impares  Pares\n",
       "0        1      2\n",
       "1        3      4\n",
       "2        5      6"
      ]
     },
     "execution_count": 96,
     "metadata": {},
     "output_type": "execute_result"
    }
   ],
   "source": [
    "df = pd.DataFrame({\n",
    "    'Impares': [1,3,5],\n",
    "    'Pares': [2,4,6]\n",
    "})\n",
    "df"
   ]
  },
  {
   "cell_type": "code",
   "execution_count": 99,
   "id": "25564c5d",
   "metadata": {},
   "outputs": [
    {
     "data": {
      "text/plain": [
       "array([[1, 2],\n",
       "       [3, 4],\n",
       "       [5, 6]], dtype=int64)"
      ]
     },
     "execution_count": 99,
     "metadata": {},
     "output_type": "execute_result"
    }
   ],
   "source": [
    "array_np1 = df.values\n",
    "array_np1"
   ]
  },
  {
   "cell_type": "code",
   "execution_count": 100,
   "id": "325d9046",
   "metadata": {},
   "outputs": [
    {
     "data": {
      "text/plain": [
       "array([[1, 2],\n",
       "       [3, 4],\n",
       "       [5, 6]], dtype=int64)"
      ]
     },
     "execution_count": 100,
     "metadata": {},
     "output_type": "execute_result"
    }
   ],
   "source": [
    "array_np2 = df.to_numpy()\n",
    "array_np2"
   ]
  },
  {
   "cell_type": "code",
   "execution_count": 101,
   "id": "cfada170",
   "metadata": {},
   "outputs": [
    {
     "data": {
      "application/vnd.microsoft.datawrangler.viewer.v0+json": {
       "columns": [
        {
         "name": "index",
         "rawType": "int64",
         "type": "integer"
        },
        {
         "name": "Impares",
         "rawType": "float64",
         "type": "float"
        },
        {
         "name": "Pares",
         "rawType": "float64",
         "type": "float"
        }
       ],
       "ref": "f9c2dd44-6c23-497b-a875-12be5cf111dc",
       "rows": [
        [
         "0",
         "1.0",
         "1.4142135623730951"
        ],
        [
         "1",
         "1.7320508075688772",
         "2.0"
        ],
        [
         "2",
         "2.23606797749979",
         "2.449489742783178"
        ]
       ],
       "shape": {
        "columns": 2,
        "rows": 3
       }
      },
      "text/html": [
       "<div>\n",
       "<style scoped>\n",
       "    .dataframe tbody tr th:only-of-type {\n",
       "        vertical-align: middle;\n",
       "    }\n",
       "\n",
       "    .dataframe tbody tr th {\n",
       "        vertical-align: top;\n",
       "    }\n",
       "\n",
       "    .dataframe thead th {\n",
       "        text-align: right;\n",
       "    }\n",
       "</style>\n",
       "<table border=\"1\" class=\"dataframe\">\n",
       "  <thead>\n",
       "    <tr style=\"text-align: right;\">\n",
       "      <th></th>\n",
       "      <th>Impares</th>\n",
       "      <th>Pares</th>\n",
       "    </tr>\n",
       "  </thead>\n",
       "  <tbody>\n",
       "    <tr>\n",
       "      <th>0</th>\n",
       "      <td>1.000000</td>\n",
       "      <td>1.414214</td>\n",
       "    </tr>\n",
       "    <tr>\n",
       "      <th>1</th>\n",
       "      <td>1.732051</td>\n",
       "      <td>2.000000</td>\n",
       "    </tr>\n",
       "    <tr>\n",
       "      <th>2</th>\n",
       "      <td>2.236068</td>\n",
       "      <td>2.449490</td>\n",
       "    </tr>\n",
       "  </tbody>\n",
       "</table>\n",
       "</div>"
      ],
      "text/plain": [
       "    Impares     Pares\n",
       "0  1.000000  1.414214\n",
       "1  1.732051  2.000000\n",
       "2  2.236068  2.449490"
      ]
     },
     "execution_count": 101,
     "metadata": {},
     "output_type": "execute_result"
    }
   ],
   "source": [
    "np.sqrt(df)"
   ]
  },
  {
   "cell_type": "code",
   "execution_count": 102,
   "id": "6380c536",
   "metadata": {},
   "outputs": [
    {
     "data": {
      "text/plain": [
       "6"
      ]
     },
     "execution_count": 102,
     "metadata": {},
     "output_type": "execute_result"
    }
   ],
   "source": [
    "np.max(df)"
   ]
  },
  {
   "cell_type": "code",
   "execution_count": 103,
   "id": "3a3bac74",
   "metadata": {},
   "outputs": [
    {
     "data": {
      "application/vnd.microsoft.datawrangler.viewer.v0+json": {
       "columns": [
        {
         "name": "index",
         "rawType": "int64",
         "type": "integer"
        },
        {
         "name": "Impares",
         "rawType": "int64",
         "type": "integer"
        },
        {
         "name": "Pares",
         "rawType": "int64",
         "type": "integer"
        }
       ],
       "ref": "b58eb4ee-f94c-4f8d-8480-c063249b3253",
       "rows": [
        [
         "0",
         "1",
         "2"
        ],
        [
         "1",
         "3",
         "4"
        ],
        [
         "2",
         "5",
         "6"
        ]
       ],
       "shape": {
        "columns": 2,
        "rows": 3
       }
      },
      "text/html": [
       "<div>\n",
       "<style scoped>\n",
       "    .dataframe tbody tr th:only-of-type {\n",
       "        vertical-align: middle;\n",
       "    }\n",
       "\n",
       "    .dataframe tbody tr th {\n",
       "        vertical-align: top;\n",
       "    }\n",
       "\n",
       "    .dataframe thead th {\n",
       "        text-align: right;\n",
       "    }\n",
       "</style>\n",
       "<table border=\"1\" class=\"dataframe\">\n",
       "  <thead>\n",
       "    <tr style=\"text-align: right;\">\n",
       "      <th></th>\n",
       "      <th>Impares</th>\n",
       "      <th>Pares</th>\n",
       "    </tr>\n",
       "  </thead>\n",
       "  <tbody>\n",
       "    <tr>\n",
       "      <th>0</th>\n",
       "      <td>1</td>\n",
       "      <td>2</td>\n",
       "    </tr>\n",
       "    <tr>\n",
       "      <th>1</th>\n",
       "      <td>3</td>\n",
       "      <td>4</td>\n",
       "    </tr>\n",
       "    <tr>\n",
       "      <th>2</th>\n",
       "      <td>5</td>\n",
       "      <td>6</td>\n",
       "    </tr>\n",
       "  </tbody>\n",
       "</table>\n",
       "</div>"
      ],
      "text/plain": [
       "   Impares  Pares\n",
       "0        1      2\n",
       "1        3      4\n",
       "2        5      6"
      ]
     },
     "execution_count": 103,
     "metadata": {},
     "output_type": "execute_result"
    }
   ],
   "source": [
    "#Numpy a Pandas\n",
    "df_desde_np = pd.DataFrame(array_np1, columns=['Impares', 'Pares'])\n",
    "df_desde_np"
   ]
  },
  {
   "cell_type": "markdown",
   "id": "c9943e84",
   "metadata": {},
   "source": [
    "<h1>Analisis de datos Meteorologicos</h1>"
   ]
  },
  {
   "cell_type": "code",
   "execution_count": 1,
   "id": "183a82a9",
   "metadata": {},
   "outputs": [],
   "source": [
    "import numpy as np\n",
    "import pandas as pd\n"
   ]
  },
  {
   "cell_type": "code",
   "execution_count": 2,
   "id": "503df3f3",
   "metadata": {},
   "outputs": [
    {
     "data": {
      "application/vnd.microsoft.datawrangler.viewer.v0+json": {
       "columns": [
        {
         "name": "index",
         "rawType": "int64",
         "type": "integer"
        },
        {
         "name": "Fecha",
         "rawType": "object",
         "type": "string"
        },
        {
         "name": "Temperatura",
         "rawType": "float64",
         "type": "float"
        },
        {
         "name": "Precipitación",
         "rawType": "float64",
         "type": "float"
        },
        {
         "name": "Humedad",
         "rawType": "float64",
         "type": "float"
        }
       ],
       "ref": "bb60e5a9-b195-4669-8625-1dc6cbd129b4",
       "rows": [
        [
         "0",
         "01/01/2010",
         "17.440675196366236",
         "10.957481997233586",
         "52.38463748841593"
        ],
        [
         "1",
         "02/01/2010",
         "25.75946831862097",
         "5.3156276517729895",
         "30.63352983123037"
        ],
        [
         "2",
         "03/01/2010",
         "20.138168803582197",
         "15.317706093986718",
         "41.49671457625978"
        ],
        [
         "3",
         "04/01/2010",
         "17.244159149844844",
         "13.151007718300209",
         "90.68470436022656"
        ],
        [
         "4",
         "05/01/2010",
         "11.182739966945237",
         "16.41366719923173",
         "22.11642167691392"
        ],
        [
         "5",
         "06/01/2010",
         "22.294705653332805",
         "13.359969520448349",
         "29.41516539922381"
        ],
        [
         "6",
         "07/01/2010",
         "11.879360563134624",
         "9.038980207390308",
         "15.462342364843986"
        ],
        [
         "7",
         "08/01/2010",
         null,
         null,
         null
        ],
        [
         "8",
         "09/01/2010",
         "38.18313802505146",
         "1.112009295385179",
         "57.64696423940397"
        ],
        [
         "9",
         "10/01/2010",
         "9.172075941288885",
         "6.158725053507319",
         "52.68883066268545"
        ],
        [
         "10",
         "11/01/2010",
         "29.586251904133228",
         "0.9251695513323744",
         "13.09736581704741"
        ],
        [
         "11",
         "12/01/2010",
         "16.444745987645224",
         "8.600541415040748",
         "96.52083989625434"
        ],
        [
         "12",
         "13/01/2010",
         "18.40222805469661",
         "4.515998237809606",
         "85.96696282029072"
        ],
        [
         "13",
         "14/01/2010",
         "36.27983191463305",
         "14.07295216583979",
         "83.83366973058958"
        ],
        [
         "14",
         "15/01/2010",
         "-6.448197090105653",
         "4.403570531130021",
         "88.76957279837288"
        ],
        [
         "15",
         "16/01/2010",
         "-5.643535014922964",
         "1.6286367113267608",
         "79.93226448355897"
        ],
        [
         "16",
         "17/01/2010",
         "-8.989080127983714",
         "16.775945567999454",
         "22.549381063462803"
        ],
        [
         "17",
         "18/01/2010",
         "31.6309922773969",
         "1.2006572058853004",
         "97.43431878808178"
        ],
        [
         "18",
         "19/01/2010",
         "28.907837547492527",
         "15.019169186989842",
         "94.03466256461437"
        ],
        [
         "19",
         "20/01/2010",
         "33.500607412340955",
         "18.588506519632663",
         "72.64694002410758"
        ],
        [
         "20",
         "21/01/2010",
         null,
         null,
         null
        ],
        [
         "21",
         "22/01/2010",
         "29.95792821083618",
         "11.193358597381875",
         "10.099999755155162"
        ],
        [
         "22",
         "23/01/2010",
         "13.073968112646591",
         "9.034534205067356",
         "53.72755924723642"
        ],
        [
         "23",
         "24/01/2010",
         "29.026458814322773",
         "15.97420117432447",
         "63.53231252835125"
        ],
        [
         "24",
         "25/01/2010",
         "-4.086278706553339",
         "12.469600122093748",
         "99.45831908462974"
        ],
        [
         "25",
         "26/01/2010",
         "21.99605106637619",
         "5.565468731423051",
         "21.962353334474507"
        ],
        [
         "26",
         "27/01/2010",
         "-2.8323356295476803",
         "0.0293801228474044",
         "17.993808774351315"
        ],
        [
         "27",
         "28/01/2010",
         "37.23344585247919",
         "9.657354576830317",
         "48.36865942029158"
        ],
        [
         "28",
         "29/01/2010",
         "16.092416087503583",
         "17.882177647869327",
         "77.58606000405358"
        ],
        [
         "29",
         "30/01/2010",
         "10.73309699952618",
         "18.107263406453345",
         "40.606329655751125"
        ],
        [
         "30",
         "31/01/2010",
         "3.2277806052313487",
         "2.505939661069887",
         "69.61242274218765"
        ],
        [
         "31",
         "01/02/2010",
         "28.711684471710832",
         "17.21353934717378",
         "90.04945479408079"
        ],
        [
         "32",
         "02/02/2010",
         "12.807516610827427",
         "0.6886257159362841",
         "81.38457919930153"
        ],
        [
         "33",
         "03/02/2010",
         "18.421697443432425",
         "1.846985506804244",
         "19.14362726716231"
        ],
        [
         "34",
         "04/02/2010",
         "-9.060509978182242",
         "19.324416247290007",
         "50.14677944287033"
        ],
        [
         "35",
         "05/02/2010",
         "20.881774853793853",
         "7.739348143831095",
         "13.41933889814874"
        ],
        [
         "36",
         "06/02/2010",
         "20.60478613612107",
         "1.4156779330544178",
         "25.17744919927961"
        ],
        [
         "37",
         "07/02/2010",
         "20.846699843737845",
         "9.409107087070428",
         "79.3639923866029"
        ],
        [
         "38",
         "08/02/2010",
         "37.18740392573121",
         "0.9227403946951762",
         "25.668381865328445"
        ],
        [
         "39",
         "09/02/2010",
         null,
         null,
         null
        ],
        [
         "40",
         "10/02/2010",
         "7.975395028689299",
         "11.235004588717292",
         "65.34806375770688"
        ],
        [
         "41",
         "11/02/2010",
         null,
         null,
         null
        ],
        [
         "42",
         "12/02/2010",
         "24.88155979636324",
         "12.438251795765328",
         "92.33399462965744"
        ],
        [
         "43",
         "13/02/2010",
         "-6.988726418536508",
         "6.6939852768736285",
         "15.26516626934726"
        ],
        [
         "44",
         "14/02/2010",
         "23.338335772283383",
         "2.6495406576920555",
         "92.731113231466"
        ],
        [
         "45",
         "15/02/2010",
         "23.531893480907968",
         "19.68803716456676",
         "20.24194484446321"
        ],
        [
         "46",
         "16/02/2010",
         "0.5191280536920448",
         "4.998828309641947",
         "91.07829850078978"
        ],
        [
         "47",
         "17/02/2010",
         "-3.5536851172573343",
         "1.2395429214839335",
         "43.1101834255354"
        ],
        [
         "48",
         "18/02/2010",
         "5.771417546209193",
         "5.576732404006586",
         "81.08567108226404"
        ],
        [
         "49",
         "19/02/2010",
         "8.18553854713113",
         "5.034001118004232",
         "45.48138717232042"
        ]
       ],
       "shape": {
        "columns": 4,
        "rows": 5110
       }
      },
      "text/html": [
       "<div>\n",
       "<style scoped>\n",
       "    .dataframe tbody tr th:only-of-type {\n",
       "        vertical-align: middle;\n",
       "    }\n",
       "\n",
       "    .dataframe tbody tr th {\n",
       "        vertical-align: top;\n",
       "    }\n",
       "\n",
       "    .dataframe thead th {\n",
       "        text-align: right;\n",
       "    }\n",
       "</style>\n",
       "<table border=\"1\" class=\"dataframe\">\n",
       "  <thead>\n",
       "    <tr style=\"text-align: right;\">\n",
       "      <th></th>\n",
       "      <th>Fecha</th>\n",
       "      <th>Temperatura</th>\n",
       "      <th>Precipitación</th>\n",
       "      <th>Humedad</th>\n",
       "    </tr>\n",
       "  </thead>\n",
       "  <tbody>\n",
       "    <tr>\n",
       "      <th>0</th>\n",
       "      <td>01/01/2010</td>\n",
       "      <td>17.440675</td>\n",
       "      <td>10.957482</td>\n",
       "      <td>52.384637</td>\n",
       "    </tr>\n",
       "    <tr>\n",
       "      <th>1</th>\n",
       "      <td>02/01/2010</td>\n",
       "      <td>25.759468</td>\n",
       "      <td>5.315628</td>\n",
       "      <td>30.633530</td>\n",
       "    </tr>\n",
       "    <tr>\n",
       "      <th>2</th>\n",
       "      <td>03/01/2010</td>\n",
       "      <td>20.138169</td>\n",
       "      <td>15.317706</td>\n",
       "      <td>41.496715</td>\n",
       "    </tr>\n",
       "    <tr>\n",
       "      <th>3</th>\n",
       "      <td>04/01/2010</td>\n",
       "      <td>17.244159</td>\n",
       "      <td>13.151008</td>\n",
       "      <td>90.684704</td>\n",
       "    </tr>\n",
       "    <tr>\n",
       "      <th>4</th>\n",
       "      <td>05/01/2010</td>\n",
       "      <td>11.182740</td>\n",
       "      <td>16.413667</td>\n",
       "      <td>22.116422</td>\n",
       "    </tr>\n",
       "    <tr>\n",
       "      <th>...</th>\n",
       "      <td>...</td>\n",
       "      <td>...</td>\n",
       "      <td>...</td>\n",
       "      <td>...</td>\n",
       "    </tr>\n",
       "    <tr>\n",
       "      <th>5105</th>\n",
       "      <td>24/12/2023</td>\n",
       "      <td>-9.554692</td>\n",
       "      <td>12.700998</td>\n",
       "      <td>50.094533</td>\n",
       "    </tr>\n",
       "    <tr>\n",
       "      <th>5106</th>\n",
       "      <td>25/12/2023</td>\n",
       "      <td>2.837831</td>\n",
       "      <td>5.475686</td>\n",
       "      <td>92.456057</td>\n",
       "    </tr>\n",
       "    <tr>\n",
       "      <th>5107</th>\n",
       "      <td>26/12/2023</td>\n",
       "      <td>29.873597</td>\n",
       "      <td>4.615012</td>\n",
       "      <td>18.362847</td>\n",
       "    </tr>\n",
       "    <tr>\n",
       "      <th>5108</th>\n",
       "      <td>27/12/2023</td>\n",
       "      <td>NaN</td>\n",
       "      <td>NaN</td>\n",
       "      <td>NaN</td>\n",
       "    </tr>\n",
       "    <tr>\n",
       "      <th>5109</th>\n",
       "      <td>28/12/2023</td>\n",
       "      <td>37.308043</td>\n",
       "      <td>7.330510</td>\n",
       "      <td>50.646211</td>\n",
       "    </tr>\n",
       "  </tbody>\n",
       "</table>\n",
       "<p>5110 rows × 4 columns</p>\n",
       "</div>"
      ],
      "text/plain": [
       "           Fecha  Temperatura  Precipitación    Humedad\n",
       "0     01/01/2010    17.440675      10.957482  52.384637\n",
       "1     02/01/2010    25.759468       5.315628  30.633530\n",
       "2     03/01/2010    20.138169      15.317706  41.496715\n",
       "3     04/01/2010    17.244159      13.151008  90.684704\n",
       "4     05/01/2010    11.182740      16.413667  22.116422\n",
       "...          ...          ...            ...        ...\n",
       "5105  24/12/2023    -9.554692      12.700998  50.094533\n",
       "5106  25/12/2023     2.837831       5.475686  92.456057\n",
       "5107  26/12/2023    29.873597       4.615012  18.362847\n",
       "5108  27/12/2023          NaN            NaN        NaN\n",
       "5109  28/12/2023    37.308043       7.330510  50.646211\n",
       "\n",
       "[5110 rows x 4 columns]"
      ]
     },
     "execution_count": 2,
     "metadata": {},
     "output_type": "execute_result"
    }
   ],
   "source": [
    "df = pd.read_csv('dataFrames/numpy/datos_meteorologicos.csv')\n",
    "df"
   ]
  },
  {
   "cell_type": "code",
   "execution_count": 3,
   "id": "c673af77",
   "metadata": {},
   "outputs": [
    {
     "data": {
      "application/vnd.microsoft.datawrangler.viewer.v0+json": {
       "columns": [
        {
         "name": "index",
         "rawType": "object",
         "type": "string"
        },
        {
         "name": "Temperatura",
         "rawType": "float64",
         "type": "float"
        },
        {
         "name": "Precipitación",
         "rawType": "float64",
         "type": "float"
        },
        {
         "name": "Humedad",
         "rawType": "float64",
         "type": "float"
        }
       ],
       "ref": "77fc32c3-870b-4597-9a31-c390a4c43320",
       "rows": [
        [
         "count",
         "4855.0",
         "4855.0",
         "4855.0"
        ],
        [
         "mean",
         "14.889295723531715",
         "9.9016035987084",
         "54.35906079674394"
        ],
        [
         "std",
         "14.440465654592867",
         "5.801841717550562",
         "26.096345066976266"
        ],
        [
         "min",
         "-9.996377518075391",
         "0.0030076216171104",
         "10.01497972062417"
        ],
        [
         "25%",
         "2.6517770231107276",
         "4.756907339811047",
         "31.866578276828534"
        ],
        [
         "50%",
         "14.693274346026854",
         "9.853697505098948",
         "54.25447761504614"
        ],
        [
         "75%",
         "27.38145107734473",
         "14.966997093318486",
         "77.02950017413119"
        ],
        [
         "max",
         "39.99820092713012",
         "19.999559035614457",
         "99.99658156071747"
        ]
       ],
       "shape": {
        "columns": 3,
        "rows": 8
       }
      },
      "text/html": [
       "<div>\n",
       "<style scoped>\n",
       "    .dataframe tbody tr th:only-of-type {\n",
       "        vertical-align: middle;\n",
       "    }\n",
       "\n",
       "    .dataframe tbody tr th {\n",
       "        vertical-align: top;\n",
       "    }\n",
       "\n",
       "    .dataframe thead th {\n",
       "        text-align: right;\n",
       "    }\n",
       "</style>\n",
       "<table border=\"1\" class=\"dataframe\">\n",
       "  <thead>\n",
       "    <tr style=\"text-align: right;\">\n",
       "      <th></th>\n",
       "      <th>Temperatura</th>\n",
       "      <th>Precipitación</th>\n",
       "      <th>Humedad</th>\n",
       "    </tr>\n",
       "  </thead>\n",
       "  <tbody>\n",
       "    <tr>\n",
       "      <th>count</th>\n",
       "      <td>4855.000000</td>\n",
       "      <td>4855.000000</td>\n",
       "      <td>4855.000000</td>\n",
       "    </tr>\n",
       "    <tr>\n",
       "      <th>mean</th>\n",
       "      <td>14.889296</td>\n",
       "      <td>9.901604</td>\n",
       "      <td>54.359061</td>\n",
       "    </tr>\n",
       "    <tr>\n",
       "      <th>std</th>\n",
       "      <td>14.440466</td>\n",
       "      <td>5.801842</td>\n",
       "      <td>26.096345</td>\n",
       "    </tr>\n",
       "    <tr>\n",
       "      <th>min</th>\n",
       "      <td>-9.996378</td>\n",
       "      <td>0.003008</td>\n",
       "      <td>10.014980</td>\n",
       "    </tr>\n",
       "    <tr>\n",
       "      <th>25%</th>\n",
       "      <td>2.651777</td>\n",
       "      <td>4.756907</td>\n",
       "      <td>31.866578</td>\n",
       "    </tr>\n",
       "    <tr>\n",
       "      <th>50%</th>\n",
       "      <td>14.693274</td>\n",
       "      <td>9.853698</td>\n",
       "      <td>54.254478</td>\n",
       "    </tr>\n",
       "    <tr>\n",
       "      <th>75%</th>\n",
       "      <td>27.381451</td>\n",
       "      <td>14.966997</td>\n",
       "      <td>77.029500</td>\n",
       "    </tr>\n",
       "    <tr>\n",
       "      <th>max</th>\n",
       "      <td>39.998201</td>\n",
       "      <td>19.999559</td>\n",
       "      <td>99.996582</td>\n",
       "    </tr>\n",
       "  </tbody>\n",
       "</table>\n",
       "</div>"
      ],
      "text/plain": [
       "       Temperatura  Precipitación      Humedad\n",
       "count  4855.000000    4855.000000  4855.000000\n",
       "mean     14.889296       9.901604    54.359061\n",
       "std      14.440466       5.801842    26.096345\n",
       "min      -9.996378       0.003008    10.014980\n",
       "25%       2.651777       4.756907    31.866578\n",
       "50%      14.693274       9.853698    54.254478\n",
       "75%      27.381451      14.966997    77.029500\n",
       "max      39.998201      19.999559    99.996582"
      ]
     },
     "execution_count": 3,
     "metadata": {},
     "output_type": "execute_result"
    }
   ],
   "source": [
    "df.describe()"
   ]
  },
  {
   "cell_type": "code",
   "execution_count": 4,
   "id": "ef1154ea",
   "metadata": {},
   "outputs": [
    {
     "name": "stdout",
     "output_type": "stream",
     "text": [
      "<class 'pandas.core.frame.DataFrame'>\n",
      "RangeIndex: 5110 entries, 0 to 5109\n",
      "Data columns (total 4 columns):\n",
      " #   Column         Non-Null Count  Dtype  \n",
      "---  ------         --------------  -----  \n",
      " 0   Fecha          5110 non-null   object \n",
      " 1   Temperatura    4855 non-null   float64\n",
      " 2   Precipitación  4855 non-null   float64\n",
      " 3   Humedad        4855 non-null   float64\n",
      "dtypes: float64(3), object(1)\n",
      "memory usage: 159.8+ KB\n"
     ]
    }
   ],
   "source": [
    "df.info()"
   ]
  },
  {
   "cell_type": "code",
   "execution_count": 5,
   "id": "54d35e29",
   "metadata": {},
   "outputs": [
    {
     "data": {
      "text/plain": [
       "pandas.core.series.Series"
      ]
     },
     "execution_count": 5,
     "metadata": {},
     "output_type": "execute_result"
    }
   ],
   "source": [
    "type(df['Fecha'])"
   ]
  },
  {
   "cell_type": "code",
   "execution_count": 7,
   "id": "0e096519",
   "metadata": {},
   "outputs": [
    {
     "data": {
      "application/vnd.microsoft.datawrangler.viewer.v0+json": {
       "columns": [
        {
         "name": "index",
         "rawType": "int64",
         "type": "integer"
        },
        {
         "name": "Fecha",
         "rawType": "datetime64[ns]",
         "type": "datetime"
        }
       ],
       "ref": "54e44b4b-4828-4cd2-ae34-eda4d73d5707",
       "rows": [
        [
         "0",
         "2010-01-01 00:00:00"
        ],
        [
         "1",
         "2010-01-02 00:00:00"
        ],
        [
         "2",
         "2010-01-03 00:00:00"
        ],
        [
         "3",
         "2010-01-04 00:00:00"
        ],
        [
         "4",
         "2010-01-05 00:00:00"
        ],
        [
         "5",
         "2010-01-06 00:00:00"
        ],
        [
         "6",
         "2010-01-07 00:00:00"
        ],
        [
         "7",
         "2010-01-08 00:00:00"
        ],
        [
         "8",
         "2010-01-09 00:00:00"
        ],
        [
         "9",
         "2010-01-10 00:00:00"
        ],
        [
         "10",
         "2010-01-11 00:00:00"
        ],
        [
         "11",
         "2010-01-12 00:00:00"
        ],
        [
         "12",
         "2010-01-13 00:00:00"
        ],
        [
         "13",
         "2010-01-14 00:00:00"
        ],
        [
         "14",
         "2010-01-15 00:00:00"
        ],
        [
         "15",
         "2010-01-16 00:00:00"
        ],
        [
         "16",
         "2010-01-17 00:00:00"
        ],
        [
         "17",
         "2010-01-18 00:00:00"
        ],
        [
         "18",
         "2010-01-19 00:00:00"
        ],
        [
         "19",
         "2010-01-20 00:00:00"
        ],
        [
         "20",
         "2010-01-21 00:00:00"
        ],
        [
         "21",
         "2010-01-22 00:00:00"
        ],
        [
         "22",
         "2010-01-23 00:00:00"
        ],
        [
         "23",
         "2010-01-24 00:00:00"
        ],
        [
         "24",
         "2010-01-25 00:00:00"
        ],
        [
         "25",
         "2010-01-26 00:00:00"
        ],
        [
         "26",
         "2010-01-27 00:00:00"
        ],
        [
         "27",
         "2010-01-28 00:00:00"
        ],
        [
         "28",
         "2010-01-29 00:00:00"
        ],
        [
         "29",
         "2010-01-30 00:00:00"
        ],
        [
         "30",
         "2010-01-31 00:00:00"
        ],
        [
         "31",
         "2010-02-01 00:00:00"
        ],
        [
         "32",
         "2010-02-02 00:00:00"
        ],
        [
         "33",
         "2010-02-03 00:00:00"
        ],
        [
         "34",
         "2010-02-04 00:00:00"
        ],
        [
         "35",
         "2010-02-05 00:00:00"
        ],
        [
         "36",
         "2010-02-06 00:00:00"
        ],
        [
         "37",
         "2010-02-07 00:00:00"
        ],
        [
         "38",
         "2010-02-08 00:00:00"
        ],
        [
         "39",
         "2010-02-09 00:00:00"
        ],
        [
         "40",
         "2010-02-10 00:00:00"
        ],
        [
         "41",
         "2010-02-11 00:00:00"
        ],
        [
         "42",
         "2010-02-12 00:00:00"
        ],
        [
         "43",
         "2010-02-13 00:00:00"
        ],
        [
         "44",
         "2010-02-14 00:00:00"
        ],
        [
         "45",
         "2010-02-15 00:00:00"
        ],
        [
         "46",
         "2010-02-16 00:00:00"
        ],
        [
         "47",
         "2010-02-17 00:00:00"
        ],
        [
         "48",
         "2010-02-18 00:00:00"
        ],
        [
         "49",
         "2010-02-19 00:00:00"
        ]
       ],
       "shape": {
        "columns": 1,
        "rows": 5110
       }
      },
      "text/plain": [
       "0      2010-01-01\n",
       "1      2010-01-02\n",
       "2      2010-01-03\n",
       "3      2010-01-04\n",
       "4      2010-01-05\n",
       "          ...    \n",
       "5105   2023-12-24\n",
       "5106   2023-12-25\n",
       "5107   2023-12-26\n",
       "5108   2023-12-27\n",
       "5109   2023-12-28\n",
       "Name: Fecha, Length: 5110, dtype: datetime64[ns]"
      ]
     },
     "execution_count": 7,
     "metadata": {},
     "output_type": "execute_result"
    }
   ],
   "source": [
    "#convertir a datetime\n",
    "df['Fecha'] = pd.to_datetime(df['Fecha'],format='%d/%m/%Y')\n",
    "df['Fecha']"
   ]
  },
  {
   "cell_type": "code",
   "execution_count": 11,
   "id": "6a6788de",
   "metadata": {},
   "outputs": [
    {
     "data": {
      "text/plain": [
       "14.889295723531713"
      ]
     },
     "execution_count": 11,
     "metadata": {},
     "output_type": "execute_result"
    }
   ],
   "source": [
    "#sacar promedio de temperatura ignorando nulos\n",
    "df_clean = df['Temperatura'].fillna(df['Temperatura'].mean())\n",
    "df_clean.mean()\n"
   ]
  },
  {
   "cell_type": "code",
   "execution_count": 9,
   "id": "e9588227",
   "metadata": {},
   "outputs": [
    {
     "data": {
      "application/vnd.microsoft.datawrangler.viewer.v0+json": {
       "columns": [
        {
         "name": "index",
         "rawType": "int64",
         "type": "integer"
        },
        {
         "name": "Fecha",
         "rawType": "datetime64[ns]",
         "type": "datetime"
        },
        {
         "name": "Temperatura",
         "rawType": "float64",
         "type": "float"
        },
        {
         "name": "Precipitación",
         "rawType": "float64",
         "type": "float"
        },
        {
         "name": "Humedad",
         "rawType": "float64",
         "type": "float"
        }
       ],
       "ref": "4760b3ee-bd2e-45ec-94ac-85f817b7d2cc",
       "rows": [
        [
         "0",
         "2010-01-01 00:00:00",
         "17.440675196366236",
         "10.957481997233586",
         "52.38463748841593"
        ],
        [
         "1",
         "2010-01-02 00:00:00",
         "25.75946831862097",
         "5.3156276517729895",
         "30.63352983123037"
        ],
        [
         "2",
         "2010-01-03 00:00:00",
         "20.138168803582197",
         "15.317706093986718",
         "41.49671457625978"
        ],
        [
         "3",
         "2010-01-04 00:00:00",
         "17.244159149844844",
         "13.151007718300209",
         "90.68470436022656"
        ],
        [
         "4",
         "2010-01-05 00:00:00",
         "11.182739966945237",
         "16.41366719923173",
         "22.11642167691392"
        ],
        [
         "5",
         "2010-01-06 00:00:00",
         "22.294705653332805",
         "13.359969520448349",
         "29.41516539922381"
        ],
        [
         "6",
         "2010-01-07 00:00:00",
         "11.879360563134624",
         "9.038980207390308",
         "15.462342364843986"
        ],
        [
         "8",
         "2010-01-09 00:00:00",
         "38.18313802505146",
         "1.112009295385179",
         "57.64696423940397"
        ],
        [
         "9",
         "2010-01-10 00:00:00",
         "9.172075941288885",
         "6.158725053507319",
         "52.68883066268545"
        ],
        [
         "10",
         "2010-01-11 00:00:00",
         "29.586251904133228",
         "0.9251695513323744",
         "13.09736581704741"
        ],
        [
         "11",
         "2010-01-12 00:00:00",
         "16.444745987645224",
         "8.600541415040748",
         "96.52083989625434"
        ],
        [
         "12",
         "2010-01-13 00:00:00",
         "18.40222805469661",
         "4.515998237809606",
         "85.96696282029072"
        ],
        [
         "13",
         "2010-01-14 00:00:00",
         "36.27983191463305",
         "14.07295216583979",
         "83.83366973058958"
        ],
        [
         "14",
         "2010-01-15 00:00:00",
         "-6.448197090105653",
         "4.403570531130021",
         "88.76957279837288"
        ],
        [
         "15",
         "2010-01-16 00:00:00",
         "-5.643535014922964",
         "1.6286367113267608",
         "79.93226448355897"
        ],
        [
         "16",
         "2010-01-17 00:00:00",
         "-8.989080127983714",
         "16.775945567999454",
         "22.549381063462803"
        ],
        [
         "17",
         "2010-01-18 00:00:00",
         "31.6309922773969",
         "1.2006572058853004",
         "97.43431878808178"
        ],
        [
         "18",
         "2010-01-19 00:00:00",
         "28.907837547492527",
         "15.019169186989842",
         "94.03466256461437"
        ],
        [
         "19",
         "2010-01-20 00:00:00",
         "33.500607412340955",
         "18.588506519632663",
         "72.64694002410758"
        ],
        [
         "21",
         "2010-01-22 00:00:00",
         "29.95792821083618",
         "11.193358597381875",
         "10.099999755155162"
        ],
        [
         "22",
         "2010-01-23 00:00:00",
         "13.073968112646591",
         "9.034534205067356",
         "53.72755924723642"
        ],
        [
         "23",
         "2010-01-24 00:00:00",
         "29.026458814322773",
         "15.97420117432447",
         "63.53231252835125"
        ],
        [
         "24",
         "2010-01-25 00:00:00",
         "-4.086278706553339",
         "12.469600122093748",
         "99.45831908462974"
        ],
        [
         "25",
         "2010-01-26 00:00:00",
         "21.99605106637619",
         "5.565468731423051",
         "21.962353334474507"
        ],
        [
         "26",
         "2010-01-27 00:00:00",
         "-2.8323356295476803",
         "0.0293801228474044",
         "17.993808774351315"
        ],
        [
         "27",
         "2010-01-28 00:00:00",
         "37.23344585247919",
         "9.657354576830317",
         "48.36865942029158"
        ],
        [
         "28",
         "2010-01-29 00:00:00",
         "16.092416087503583",
         "17.882177647869327",
         "77.58606000405358"
        ],
        [
         "29",
         "2010-01-30 00:00:00",
         "10.73309699952618",
         "18.107263406453345",
         "40.606329655751125"
        ],
        [
         "30",
         "2010-01-31 00:00:00",
         "3.2277806052313487",
         "2.505939661069887",
         "69.61242274218765"
        ],
        [
         "31",
         "2010-02-01 00:00:00",
         "28.711684471710832",
         "17.21353934717378",
         "90.04945479408079"
        ],
        [
         "32",
         "2010-02-02 00:00:00",
         "12.807516610827427",
         "0.6886257159362841",
         "81.38457919930153"
        ],
        [
         "33",
         "2010-02-03 00:00:00",
         "18.421697443432425",
         "1.846985506804244",
         "19.14362726716231"
        ],
        [
         "34",
         "2010-02-04 00:00:00",
         "-9.060509978182242",
         "19.324416247290007",
         "50.14677944287033"
        ],
        [
         "35",
         "2010-02-05 00:00:00",
         "20.881774853793853",
         "7.739348143831095",
         "13.41933889814874"
        ],
        [
         "36",
         "2010-02-06 00:00:00",
         "20.60478613612107",
         "1.4156779330544178",
         "25.17744919927961"
        ],
        [
         "37",
         "2010-02-07 00:00:00",
         "20.846699843737845",
         "9.409107087070428",
         "79.3639923866029"
        ],
        [
         "38",
         "2010-02-08 00:00:00",
         "37.18740392573121",
         "0.9227403946951762",
         "25.668381865328445"
        ],
        [
         "40",
         "2010-02-10 00:00:00",
         "7.975395028689299",
         "11.235004588717292",
         "65.34806375770688"
        ],
        [
         "42",
         "2010-02-12 00:00:00",
         "24.88155979636324",
         "12.438251795765328",
         "92.33399462965744"
        ],
        [
         "43",
         "2010-02-13 00:00:00",
         "-6.988726418536508",
         "6.6939852768736285",
         "15.26516626934726"
        ],
        [
         "44",
         "2010-02-14 00:00:00",
         "23.338335772283383",
         "2.6495406576920555",
         "92.731113231466"
        ],
        [
         "45",
         "2010-02-15 00:00:00",
         "23.531893480907968",
         "19.68803716456676",
         "20.24194484446321"
        ],
        [
         "46",
         "2010-02-16 00:00:00",
         "0.5191280536920448",
         "4.998828309641947",
         "91.07829850078978"
        ],
        [
         "47",
         "2010-02-17 00:00:00",
         "-3.5536851172573343",
         "1.2395429214839335",
         "43.1101834255354"
        ],
        [
         "48",
         "2010-02-18 00:00:00",
         "5.771417546209193",
         "5.576732404006586",
         "81.08567108226404"
        ],
        [
         "49",
         "2010-02-19 00:00:00",
         "8.18553854713113",
         "5.034001118004232",
         "45.48138717232042"
        ],
        [
         "50",
         "2010-02-20 00:00:00",
         "18.509838520893982",
         "5.9929260843516",
         "75.98408347458133"
        ],
        [
         "51",
         "2010-02-21 00:00:00",
         "11.930075673116018",
         "7.113484624014925",
         "86.71516798527048"
        ],
        [
         "52",
         "2010-02-22 00:00:00",
         "39.41869190296131",
         "16.10330361559138",
         "57.28949907185929"
        ],
        [
         "53",
         "2010-02-23 00:00:00",
         "-4.8977594625985965",
         "1.1956887189560383",
         "46.19256103451779"
        ]
       ],
       "shape": {
        "columns": 4,
        "rows": 4855
       }
      },
      "text/html": [
       "<div>\n",
       "<style scoped>\n",
       "    .dataframe tbody tr th:only-of-type {\n",
       "        vertical-align: middle;\n",
       "    }\n",
       "\n",
       "    .dataframe tbody tr th {\n",
       "        vertical-align: top;\n",
       "    }\n",
       "\n",
       "    .dataframe thead th {\n",
       "        text-align: right;\n",
       "    }\n",
       "</style>\n",
       "<table border=\"1\" class=\"dataframe\">\n",
       "  <thead>\n",
       "    <tr style=\"text-align: right;\">\n",
       "      <th></th>\n",
       "      <th>Fecha</th>\n",
       "      <th>Temperatura</th>\n",
       "      <th>Precipitación</th>\n",
       "      <th>Humedad</th>\n",
       "    </tr>\n",
       "  </thead>\n",
       "  <tbody>\n",
       "    <tr>\n",
       "      <th>0</th>\n",
       "      <td>2010-01-01</td>\n",
       "      <td>17.440675</td>\n",
       "      <td>10.957482</td>\n",
       "      <td>52.384637</td>\n",
       "    </tr>\n",
       "    <tr>\n",
       "      <th>1</th>\n",
       "      <td>2010-01-02</td>\n",
       "      <td>25.759468</td>\n",
       "      <td>5.315628</td>\n",
       "      <td>30.633530</td>\n",
       "    </tr>\n",
       "    <tr>\n",
       "      <th>2</th>\n",
       "      <td>2010-01-03</td>\n",
       "      <td>20.138169</td>\n",
       "      <td>15.317706</td>\n",
       "      <td>41.496715</td>\n",
       "    </tr>\n",
       "    <tr>\n",
       "      <th>3</th>\n",
       "      <td>2010-01-04</td>\n",
       "      <td>17.244159</td>\n",
       "      <td>13.151008</td>\n",
       "      <td>90.684704</td>\n",
       "    </tr>\n",
       "    <tr>\n",
       "      <th>4</th>\n",
       "      <td>2010-01-05</td>\n",
       "      <td>11.182740</td>\n",
       "      <td>16.413667</td>\n",
       "      <td>22.116422</td>\n",
       "    </tr>\n",
       "    <tr>\n",
       "      <th>...</th>\n",
       "      <td>...</td>\n",
       "      <td>...</td>\n",
       "      <td>...</td>\n",
       "      <td>...</td>\n",
       "    </tr>\n",
       "    <tr>\n",
       "      <th>5104</th>\n",
       "      <td>2023-12-23</td>\n",
       "      <td>-2.080426</td>\n",
       "      <td>4.361594</td>\n",
       "      <td>19.761457</td>\n",
       "    </tr>\n",
       "    <tr>\n",
       "      <th>5105</th>\n",
       "      <td>2023-12-24</td>\n",
       "      <td>-9.554692</td>\n",
       "      <td>12.700998</td>\n",
       "      <td>50.094533</td>\n",
       "    </tr>\n",
       "    <tr>\n",
       "      <th>5106</th>\n",
       "      <td>2023-12-25</td>\n",
       "      <td>2.837831</td>\n",
       "      <td>5.475686</td>\n",
       "      <td>92.456057</td>\n",
       "    </tr>\n",
       "    <tr>\n",
       "      <th>5107</th>\n",
       "      <td>2023-12-26</td>\n",
       "      <td>29.873597</td>\n",
       "      <td>4.615012</td>\n",
       "      <td>18.362847</td>\n",
       "    </tr>\n",
       "    <tr>\n",
       "      <th>5109</th>\n",
       "      <td>2023-12-28</td>\n",
       "      <td>37.308043</td>\n",
       "      <td>7.330510</td>\n",
       "      <td>50.646211</td>\n",
       "    </tr>\n",
       "  </tbody>\n",
       "</table>\n",
       "<p>4855 rows × 4 columns</p>\n",
       "</div>"
      ],
      "text/plain": [
       "          Fecha  Temperatura  Precipitación    Humedad\n",
       "0    2010-01-01    17.440675      10.957482  52.384637\n",
       "1    2010-01-02    25.759468       5.315628  30.633530\n",
       "2    2010-01-03    20.138169      15.317706  41.496715\n",
       "3    2010-01-04    17.244159      13.151008  90.684704\n",
       "4    2010-01-05    11.182740      16.413667  22.116422\n",
       "...         ...          ...            ...        ...\n",
       "5104 2023-12-23    -2.080426       4.361594  19.761457\n",
       "5105 2023-12-24    -9.554692      12.700998  50.094533\n",
       "5106 2023-12-25     2.837831       5.475686  92.456057\n",
       "5107 2023-12-26    29.873597       4.615012  18.362847\n",
       "5109 2023-12-28    37.308043       7.330510  50.646211\n",
       "\n",
       "[4855 rows x 4 columns]"
      ]
     },
     "execution_count": 9,
     "metadata": {},
     "output_type": "execute_result"
    }
   ],
   "source": [
    "df_clean"
   ]
  },
  {
   "cell_type": "code",
   "execution_count": null,
   "id": "249da109",
   "metadata": {},
   "outputs": [
    {
     "data": {
      "text/plain": [
       "19.009986181448713"
      ]
     },
     "execution_count": 16,
     "metadata": {},
     "output_type": "execute_result"
    }
   ],
   "source": [
    "#sacar promedio de temperatura de los primeros 6 meses\n",
    "df_clean[:6].mean()"
   ]
  },
  {
   "cell_type": "code",
   "execution_count": null,
   "id": "4aaec30a",
   "metadata": {},
   "outputs": [
    {
     "data": {
      "text/plain": [
       "48072.28547172928"
      ]
     },
     "execution_count": 17,
     "metadata": {},
     "output_type": "execute_result"
    }
   ],
   "source": [
    "#sacar total de precipitacion\n",
    "df_precipitacion = df['Precipitación'].sum()\n",
    "df_precipitacion"
   ]
  },
  {
   "cell_type": "code",
   "execution_count": 18,
   "id": "a0f04435",
   "metadata": {},
   "outputs": [
    {
     "data": {
      "text/plain": [
       "99.99658156071747"
      ]
     },
     "execution_count": 18,
     "metadata": {},
     "output_type": "execute_result"
    }
   ],
   "source": [
    "#maxima humedad registrada\n",
    "df['Humedad'].max()"
   ]
  },
  {
   "cell_type": "code",
   "execution_count": 29,
   "id": "6b442ad4",
   "metadata": {},
   "outputs": [
    {
     "name": "stdout",
     "output_type": "stream",
     "text": [
      "Mayor humedad: 99.99658156071747 registrada el 2023-01-21 00:00:00\n"
     ]
    }
   ],
   "source": [
    "#sacar el dia con mayor humedad mostrando la humedad y la fecha\n",
    "idx = df['Humedad'].idxmax()\n",
    "fecha_max = df.loc[idx, 'Fecha']\n",
    "humedad_max = df.loc[idx, 'Humedad']   # o df['Humedad'].max()\n",
    "print(f\"Mayor humedad: {humedad_max} registrada el {fecha_max}\")\n"
   ]
  },
  {
   "cell_type": "code",
   "execution_count": null,
   "id": "8f61d786",
   "metadata": {},
   "outputs": [
    {
     "name": "stdout",
     "output_type": "stream",
     "text": [
      "Mayor temperatura: 39.99820092713012 registrada el 2017-07-12 00:00:00\n"
     ]
    }
   ],
   "source": [
    "#sacar el dia con mayor temperatura mostrando la temperatura y la fecha\n",
    "idx = df['Temperatura'].idxmax()\n",
    "fecha_max = df.loc[idx, 'Fecha']\n",
    "temperatura_max = df.loc[idx, 'Temperatura']   # o df['Temperatura'].max()\n",
    "print(f\"Mayor temperatura: {temperatura_max} registrada el {fecha_max}\")"
   ]
  },
  {
   "cell_type": "code",
   "execution_count": 31,
   "id": "f835b3e7",
   "metadata": {},
   "outputs": [
    {
     "name": "stdout",
     "output_type": "stream",
     "text": [
      "Menor temperatura: -9.996377518075391 registrada el 2020-07-23 00:00:00\n"
     ]
    }
   ],
   "source": [
    "# sacar el dia con menor temperatura mostrando la temperatura y la fecha\n",
    "idx = df['Temperatura'].idxmin()\n",
    "fecha_min = df.loc[idx, 'Fecha']\n",
    "temperatura_min = df.loc[idx, 'Temperatura']   # o df['Temperatura'].min()\n",
    "print(f\"Menor temperatura: {temperatura_min} registrada el {fecha_min}\")"
   ]
  },
  {
   "cell_type": "code",
   "execution_count": null,
   "id": "e6c7e1e9",
   "metadata": {},
   "outputs": [],
   "source": []
  }
 ],
 "metadata": {
  "kernelspec": {
   "display_name": "Python 3",
   "language": "python",
   "name": "python3"
  },
  "language_info": {
   "codemirror_mode": {
    "name": "ipython",
    "version": 3
   },
   "file_extension": ".py",
   "mimetype": "text/x-python",
   "name": "python",
   "nbconvert_exporter": "python",
   "pygments_lexer": "ipython3",
   "version": "3.12.1"
  }
 },
 "nbformat": 4,
 "nbformat_minor": 5
}
